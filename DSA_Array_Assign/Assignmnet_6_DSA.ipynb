{
 "cells": [
  {
   "cell_type": "markdown",
   "id": "93cf85d9",
   "metadata": {},
   "source": [
    "#### Assignmnet6"
   ]
  },
  {
   "cell_type": "markdown",
   "id": "9c51a104",
   "metadata": {},
   "source": [
    "Q1. A permutation perm of n + 1 integers of all the integers in the range [0, n] can be represented as a string s of length n where:\n",
    "\n",
    "s[i] == 'I' if perm[i] < perm[i + 1], and\n",
    "s[i] == 'D' if perm[i] > perm[i + 1].\n",
    "Given a string s, reconstruct the permutation perm and return it. If there are multiple valid permutations perm, return any of them.\n",
    "\n",
    "Example 1:\n",
    "\n",
    "Input: s = \"IDID\"\n",
    "\n",
    "Output:\n",
    "\n",
    "[0,4,1,3,2]"
   ]
  },
  {
   "cell_type": "code",
   "execution_count": 63,
   "id": "871a933a",
   "metadata": {},
   "outputs": [],
   "source": [
    "def find_Permutation(string1):\n",
    "    perm=[]\n",
    "    n=len(string1)\n",
    "    low,high=0,n\n",
    "    for i in string1:\n",
    "        if i == 'I':\n",
    "            perm.append(low)\n",
    "            low +=1\n",
    "        elif i=='D':\n",
    "            perm.append(high)\n",
    "            high-=1\n",
    "    perm.append(low)\n",
    "    return perm        \n",
    "        \n",
    "            \n",
    "        \n",
    "        "
   ]
  },
  {
   "cell_type": "code",
   "execution_count": 64,
   "id": "55d62940",
   "metadata": {},
   "outputs": [
    {
     "name": "stdout",
     "output_type": "stream",
     "text": [
      "[0, 6, 1, 5, 4, 2, 3]\n"
     ]
    }
   ],
   "source": [
    "string1 = \"IDIDDI\"\n",
    "print(find_Permutation(string1))"
   ]
  },
  {
   "cell_type": "markdown",
   "id": "ac3637f6",
   "metadata": {},
   "source": [
    "Q2. You are given an m x n integer matrix matrix with the following two properties:\n",
    "\n",
    "Each row is sorted in non-decreasing order.\n",
    "The first integer of each row is greater than the last integer of the previous row.\n",
    "Given an integer target, return true if target is in matrix or false otherwise.\n",
    "\n",
    "You must write a solution in O(log(m * n)) time complexity.\n",
    "\n",
    "Example 1: Screenshot_2023-05-29_005303.png\n",
    "\n",
    "Input: matrix = [[1,3,5,7],[10,11,16,20],[23,30,34,60]], target = 3\n",
    "\n",
    "Output: true"
   ]
  },
  {
   "cell_type": "code",
   "execution_count": 65,
   "id": "f03b7815",
   "metadata": {},
   "outputs": [],
   "source": [
    "###![alt text](imagename.png \"Title\")"
   ]
  },
  {
   "cell_type": "code",
   "execution_count": 66,
   "id": "f6ad076c",
   "metadata": {},
   "outputs": [],
   "source": [
    "def find_ele(matrix1,target):\n",
    "    if len(matrix1) == 0 or len(matrix1[0]) == 0:\n",
    "        return False\n",
    "\n",
    "        row = []\n",
    "        # store the row with great or equal value to the target\n",
    "    for i in matrix1:\n",
    "            if i[-1] >= target:\n",
    "                row = 1\n",
    "                break\n",
    "        \n",
    "        # iterate through the row until you find the target\n",
    "    for ele in i[::-1]:\n",
    "            if ele == target:\n",
    "                return True\n",
    "    return False    \n",
    "    "
   ]
  },
  {
   "cell_type": "code",
   "execution_count": 67,
   "id": "727aa336",
   "metadata": {},
   "outputs": [
    {
     "name": "stdout",
     "output_type": "stream",
     "text": [
      "True\n"
     ]
    }
   ],
   "source": [
    "matrix1 = [[1,3,5,7],[10,11,16,20],[23,30,34,60]]\n",
    "target = 7\n",
    "print(find_ele(matrix1,target))"
   ]
  },
  {
   "cell_type": "markdown",
   "id": "98ce5114",
   "metadata": {},
   "source": [
    "Q3. Given an array of integers arr, return true if and only if it is a valid mountain array. Recall that arr is a mountain array if and only if:\n",
    "\n",
    "arr.length >= 3\n",
    "There exists some i with 0 < i < arr.length - 1 such that:\n",
    "arr[0] < arr[1] < ... < arr[i - 1] < arr[i]\n",
    "arr[i] > arr[i + 1] > ... > arr[arr.length - 1]"
   ]
  },
  {
   "cell_type": "code",
   "execution_count": 68,
   "id": "7b1e6751",
   "metadata": {},
   "outputs": [],
   "source": [
    "def valid_mountain_array(arr):\n",
    "    n=len(arr)\n",
    "    if n < 3:\n",
    "        return False\n",
    "\n",
    "    i = 0\n",
    "    while i < n - 1 and arr[i] < arr[i + 1]:\n",
    "        i += 1\n",
    "\n",
    "    if i == 0 or i == n - 1:\n",
    "        return False\n",
    "\n",
    "    while i < n- 1 and arr[i] > arr[i + 1]:\n",
    "        i += 1\n",
    "\n",
    "    return i == n - 1\n",
    "        \n",
    "    "
   ]
  },
  {
   "cell_type": "code",
   "execution_count": 69,
   "id": "3558ff79",
   "metadata": {},
   "outputs": [
    {
     "data": {
      "text/plain": [
       "True"
      ]
     },
     "execution_count": 69,
     "metadata": {},
     "output_type": "execute_result"
    }
   ],
   "source": [
    "valid_mountain_array([2,3,4,3,2])"
   ]
  },
  {
   "cell_type": "markdown",
   "id": "3f7a5ff0",
   "metadata": {},
   "source": [
    "Q4. Given a binary array nums, return the maximum length of a contiguous subarray with an equal number of 0 and 1.\n",
    "\n",
    "Example 1:\n",
    "\n",
    "Input: nums = [0,1]\n",
    "\n",
    "Output: 2\n",
    "\n",
    "Explanation:\n",
    "\n",
    "[0, 1] is the longest contiguous subarray with an equal number of 0 and 1."
   ]
  },
  {
   "cell_type": "code",
   "execution_count": 70,
   "id": "23e34280",
   "metadata": {},
   "outputs": [],
   "source": [
    "def findMaxLength_arr(nums):\n",
    "    max_len = 0\n",
    "    sum_dict = {0: -1}\n",
    "    sum = 0\n",
    "\n",
    "    for i in range(len(nums)):\n",
    "        if nums[i] == 1:\n",
    "            sum += 1\n",
    "        else:\n",
    "            sum -= 1\n",
    "\n",
    "        if sum in sum_dict:\n",
    "            length = i - sum_dict[sum]\n",
    "            if length > max_len:\n",
    "                max_length = length\n",
    "        else:\n",
    "            sum_dict[sum] = i\n",
    "\n",
    "    return max_length"
   ]
  },
  {
   "cell_type": "code",
   "execution_count": 71,
   "id": "be4745ed",
   "metadata": {},
   "outputs": [
    {
     "name": "stdout",
     "output_type": "stream",
     "text": [
      "2\n"
     ]
    }
   ],
   "source": [
    "nums = [0, 1]\n",
    "result = findMaxLength_arr(nums)\n",
    "print(result)"
   ]
  },
  {
   "cell_type": "markdown",
   "id": "e6d994e7",
   "metadata": {},
   "source": [
    "Q5. The product sum** of two equal-length arrays a and b is equal to the sum of a[i] * b[i] for all 0 <= i < a.length (0-indexed).**\n",
    "\n",
    "For example, if a = [1,2,3,4] and b = [5,2,3,1], the product sum would be 15 + 22 + 33 + 41 = 22.\n",
    "Given two arrays nums1 and nums2 of length n, return the minimum product sum* if you are allowed to rearrange the order of the elements in* nums1.\n",
    "\n",
    "Example 1:\n",
    "\n",
    "Input: nums1 = [5,3,4,2], nums2 = [4,2,2,5]\n",
    "\n",
    "Output: 40\n",
    "\n",
    "Explanation:\n",
    "\n",
    "We can rearrange nums1 to become [3,5,4,2]. The product sum of [3,5,4,2] and [4,2,2,5] is 34 + 52 + 42 + 25 = 40."
   ]
  },
  {
   "cell_type": "code",
   "execution_count": 76,
   "id": "49bdfedd",
   "metadata": {},
   "outputs": [],
   "source": [
    "def array_mul(num1,num2):\n",
    "    sum=0\n",
    "    num1.sort()\n",
    "    num2.sort(reverse=True)\n",
    "    if len(num1)>len(num2):\n",
    "        print(\"Lengths of array not equal\")\n",
    "    else:\n",
    "        for i in range(len(num1)):\n",
    "            sum += num1[i] * num2[i]\n",
    "        return sum    \n",
    "                       \n",
    "            \n",
    "        \n",
    "        \n",
    "    "
   ]
  },
  {
   "cell_type": "code",
   "execution_count": 78,
   "id": "f1002fd5",
   "metadata": {},
   "outputs": [
    {
     "name": "stdout",
     "output_type": "stream",
     "text": [
      "Multiplication Result is: 44\n"
     ]
    }
   ],
   "source": [
    "num1=[3,5,4,2]\n",
    "num2=[3,5,4,2]\n",
    "result=array_mul(num1,num2)\n",
    "print(\"Multiplication Result is:\",result)\n"
   ]
  },
  {
   "cell_type": "markdown",
   "id": "b118a9ce",
   "metadata": {},
   "source": [
    "Q6. An integer array original is transformed into a doubled** array changed by appending twice the value of every element in original, and then randomly shuffling the resulting array.**\n",
    "\n",
    "Given an array changed, return original if changed is a doubled* array. If* changed is not a doubled* array, return an empty array. The elements in* original may be returned in any* order*.\n",
    "\n",
    "Example 1:\n",
    "\n",
    "Input: changed = [1,3,4,2,6,8]\n",
    "\n",
    "Output: [1,3,4]\n",
    "\n",
    "Explanation: One possible original array could be [1,3,4]:\n",
    "\n",
    "Twice the value of 1 is 1 * 2 = 2.\n",
    "Twice the value of 3 is 3 * 2 = 6.\n",
    "Twice the value of 4 is 4 * 2 = 8.\n",
    "Other original arrays could be [4,3,1] or [3,1,4]."
   ]
  },
  {
   "cell_type": "code",
   "execution_count": 79,
   "id": "05885154",
   "metadata": {},
   "outputs": [],
   "source": [
    "def original_arr(input_changed):\n",
    "    if len(input_changed) % 2 != 0:\n",
    "        return []\n",
    "    count = {}\n",
    "    for num in input_changed:\n",
    "        count[num] = count.get(num, 0) + 1\n",
    "\n",
    "    original = []\n",
    "    for num in sorted(input_changed):\n",
    "        if count.get(num, 0) == 0:\n",
    "            continue\n",
    "        if count.get(num * 2, 0) == 0:\n",
    "            return []\n",
    "        original.append(num)\n",
    "        count[num] -= 1\n",
    "        count[num * 2] -= 1\n",
    "\n",
    "    return original "
   ]
  },
  {
   "cell_type": "code",
   "execution_count": 80,
   "id": "a110ee55",
   "metadata": {},
   "outputs": [
    {
     "name": "stdout",
     "output_type": "stream",
     "text": [
      "[1, 3, 4]\n"
     ]
    }
   ],
   "source": [
    "input_changed=[1,3,4,2,6,8]\n",
    "result=original_arr(input_changed)\n",
    "print(result)"
   ]
  },
  {
   "cell_type": "markdown",
   "id": "b11045e7",
   "metadata": {},
   "source": [
    "Q7. Given a positive integer n, generate an n x n matrix filled with elements from 1 to n2 in spiral order\n",
    "\n",
    "Example 1: Screenshot_2023-05-29_005522.png\n",
    "Input: n = 3\n",
    "\n",
    "Output: [[1,2,3],[8,9,4],[7,6,5]]"
   ]
  },
  {
   "cell_type": "code",
   "execution_count": 87,
   "id": "fba51e70",
   "metadata": {},
   "outputs": [],
   "source": [
    "def Generatematrix(n):\n",
    "    matrix1=[]\n",
    "    total = n * n\n",
    "    for i in range(1, total + 1):\n",
    "        matrix1.append(i)\n",
    "    result = [[None] * n for _ in range(n)]\n",
    "    \n",
    "    for x in range(n - 1):\n",
    "        for i in range(x, n - x - 1):\n",
    "            result[x][i] = matrix1.pop(0)\n",
    "        for i in range(x, n - x - 1):\n",
    "            result[i][n - x - 1] = matrix1.pop(0)\n",
    "        for i in range(n - x - 1, x, -1):\n",
    "            result[n - x - 1][i] = matrix1.pop(0)\n",
    "        for i in range(n - x - 1, x, -1):\n",
    "            result[i][x] = matrix1.pop(0)\n",
    "    \n",
    "    if n % 2:\n",
    "        y = (n - 1) // 2\n",
    "        result[y][y] = matrix1.pop()\n",
    "\n",
    "    return result"
   ]
  },
  {
   "cell_type": "code",
   "execution_count": 88,
   "id": "f3beb2af",
   "metadata": {},
   "outputs": [
    {
     "name": "stdout",
     "output_type": "stream",
     "text": [
      "[[1, 2, 3], [8, 9, 4], [7, 6, 5]]\n"
     ]
    }
   ],
   "source": [
    "n=3\n",
    "result=Generatematrix(n)\n",
    "print(result)"
   ]
  },
  {
   "cell_type": "markdown",
   "id": "73eb3de7",
   "metadata": {},
   "source": [
    "Q8. Given two sparse matrices mat1 of size m x k and mat2 of size k x n, return the result of mat1 x mat2. You may assume that multiplication is always possible."
   ]
  },
  {
   "cell_type": "code",
   "execution_count": 89,
   "id": "dca6e02d",
   "metadata": {},
   "outputs": [],
   "source": [
    "def multiply1(mat1, mat2):\n",
    "    t,s =len(mat1),len(mat1[0]) ## t*s\n",
    "    q,b=len(mat2),len(mat2[0])   ## g*b size\n",
    "    ##m, k = len(mat1), len(mat1[0])\n",
    "    ##k2, n = len(mat2), len(mat2[0])\n",
    "    result=   [ [0]*b for _ in range (t)]\n",
    "   \n",
    "\n",
    "    for i in range(t):\n",
    "        for j in range(s):\n",
    "            if mat1[i][j] != 0:\n",
    "                for col in range(b):\n",
    "                    result[i][col] += mat1[i][j] * mat2[j][col]\n",
    "\n",
    "    return result"
   ]
  },
  {
   "cell_type": "code",
   "execution_count": 92,
   "id": "7293a4a8",
   "metadata": {},
   "outputs": [
    {
     "name": "stdout",
     "output_type": "stream",
     "text": [
      "[30, 36, 42]\n",
      "[66, 81, 96]\n"
     ]
    }
   ],
   "source": [
    "mat1=[[1,2,3],[4,5,6]]\n",
    "mat2=[[1,2,3],[4,5,6],[7,8,9]]\n",
    "result=(multiply1(mat1,mat2))\n",
    "for row in result:\n",
    "    print(row)\n"
   ]
  },
  {
   "cell_type": "code",
   "execution_count": null,
   "id": "97832e17",
   "metadata": {},
   "outputs": [],
   "source": []
  }
 ],
 "metadata": {
  "kernelspec": {
   "display_name": "Python 3 (ipykernel)",
   "language": "python",
   "name": "python3"
  },
  "language_info": {
   "codemirror_mode": {
    "name": "ipython",
    "version": 3
   },
   "file_extension": ".py",
   "mimetype": "text/x-python",
   "name": "python",
   "nbconvert_exporter": "python",
   "pygments_lexer": "ipython3",
   "version": "3.9.10"
  }
 },
 "nbformat": 4,
 "nbformat_minor": 5
}
