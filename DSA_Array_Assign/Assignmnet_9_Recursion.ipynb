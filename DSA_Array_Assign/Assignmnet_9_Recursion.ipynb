{
 "cells": [
  {
   "cell_type": "markdown",
   "id": "5051590f",
   "metadata": {},
   "source": [
    "Question 1 Given an integer n, return true if it is a power of two. Otherwise, return false. An integer n is a power of two, if there exists an integer x such that n == 2x.\n",
    "Example 1: Input: n = 1\n",
    "\n",
    "Output: true\n",
    "\n",
    "Example 2: Input: n = 16\n",
    "\n",
    "Output: true\n",
    "\n",
    "Example 3: Input: n = 3\n",
    "\n",
    "Output: false"
   ]
  },
  {
   "cell_type": "code",
   "execution_count": 1,
   "id": "da3cd25a",
   "metadata": {},
   "outputs": [
    {
     "name": "stdout",
     "output_type": "stream",
     "text": [
      "True\n",
      "True\n",
      "False\n"
     ]
    }
   ],
   "source": [
    "def power_of_two(n):\n",
    "    if n <= 0:\n",
    "        return False\n",
    "    return (n & (n - 1)) == 0\n",
    "\n",
    "print(power_of_two(1))  # Output: True\n",
    "print(power_of_two(16))  # Output: True\n",
    "print(power_of_two(3))  # Output: False"
   ]
  },
  {
   "cell_type": "markdown",
   "id": "6229443b",
   "metadata": {},
   "source": [
    "Question 2 Given a number n, find the sum of the first natural numbers.\n",
    "Example 1:\n",
    "\n",
    "Input: n = 3\n",
    "\n",
    "Output: 6\n",
    "\n",
    "Example 2:\n",
    "\n",
    "Input : 5\n",
    "\n",
    "Output : 15"
   ]
  },
  {
   "cell_type": "code",
   "execution_count": 3,
   "id": "8a37a586",
   "metadata": {},
   "outputs": [
    {
     "name": "stdout",
     "output_type": "stream",
     "text": [
      "28\n",
      "15\n"
     ]
    }
   ],
   "source": [
    "def sum_of_natural_numbers(n):\n",
    "    return (n * (n + 1)) // 2\n",
    "\n",
    "print(sum_of_natural_numbers(7))  # Output: 6\n",
    "print(sum_of_natural_numbers(5))  # Output: 15"
   ]
  },
  {
   "cell_type": "markdown",
   "id": "52ed5f11",
   "metadata": {},
   "source": [
    "Question 3 Given a positive integer, N. Find the factorial of N.\n",
    "Example 1:\n",
    "\n",
    "Input: N = 5\n",
    "\n",
    "Output: 120\n",
    "\n",
    "Example 2:\n",
    "\n",
    "Input: N = 4\n",
    "\n",
    "Output: 24"
   ]
  },
  {
   "cell_type": "code",
   "execution_count": 5,
   "id": "734e8e2c",
   "metadata": {},
   "outputs": [
    {
     "name": "stdout",
     "output_type": "stream",
     "text": [
      "720\n",
      "40320\n"
     ]
    }
   ],
   "source": [
    "def factorial(N):\n",
    "    factorial = 1\n",
    "    for i in range(1, N + 1):\n",
    "        factorial *= i\n",
    "    return factorial\n",
    "\n",
    "print(factorial(6)) \n",
    "print(factorial(8))"
   ]
  },
  {
   "cell_type": "markdown",
   "id": "4c7197a3",
   "metadata": {},
   "source": [
    "Question 4 Given a number N and a power P, the task is to find the exponent of this number raised to the given power, i.e. N^P.\n",
    "Example 1 :\n",
    "\n",
    "Input: N = 5, P = 2\n",
    "\n",
    "Output: 25\n",
    "\n",
    "Example 2 : Input: N = 2, P = 5\n",
    "\n",
    "Output: 32"
   ]
  },
  {
   "cell_type": "code",
   "execution_count": 7,
   "id": "0dadfefa",
   "metadata": {},
   "outputs": [
    {
     "name": "stdout",
     "output_type": "stream",
     "text": [
      "36\n",
      "343\n"
     ]
    }
   ],
   "source": [
    "def calculate_exponent(N, P):\n",
    "    return N ** P\n",
    "print(calculate_exponent(6, 2))\n",
    "print(calculate_exponent(7,3))"
   ]
  },
  {
   "cell_type": "markdown",
   "id": "8b2f68eb",
   "metadata": {},
   "source": [
    "Question 5** Given an array of integers arr, the task is to find maximum element of that array using recursion."
   ]
  },
  {
   "cell_type": "code",
   "execution_count": 10,
   "id": "8073a19c",
   "metadata": {},
   "outputs": [],
   "source": [
    "def findMax(arr):\n",
    "    # Base case: If array contains only one element, return that element\n",
    "    if len(arr) == 1:\n",
    "        return arr[0]\n",
    "\n",
    "    # Split the array into two halves\n",
    "    mid = len(arr) // 2\n",
    "    left = arr[:mid]\n",
    "    right = arr[mid:]\n",
    "\n",
    "    # Recursively find the maximum elements of the left and right halves\n",
    "    max_left = findMax(left)\n",
    "    max_right = findMax(right)\n",
    "\n",
    "    # Compare the maximum elements of the left and right halves and return the larger one\n",
    "    return max(max_left, max_right)"
   ]
  },
  {
   "cell_type": "code",
   "execution_count": 11,
   "id": "2783dc66",
   "metadata": {},
   "outputs": [
    {
     "name": "stdout",
     "output_type": "stream",
     "text": [
      "8\n",
      "45\n"
     ]
    }
   ],
   "source": [
    "arr1 = [1, 4, 3, -5, -4, 8, 6]\n",
    "print(findMax(arr1))  # Output: 8\n",
    "\n",
    "arr2 = [1, 4, 45, 6, 10, -8]\n",
    "print(findMax(arr2))  # Output: 45"
   ]
  },
  {
   "cell_type": "markdown",
   "id": "29ea9124",
   "metadata": {},
   "source": [
    "Question 6 Given first term (a), common difference (d) and a integer N of the Arithmetic Progression series, the task is to find Nth term of the series.Example 1:\n",
    "\n",
    "Input : a = 2 d = 1 N = 5 Output : 6 The 5th term of the series is : 6\n",
    "\n",
    "Example 2:\n",
    "\n",
    "Input : a = 5 d = 2 N = 10 Output : 23 The 10th term of the series is : 23"
   ]
  },
  {
   "cell_type": "code",
   "execution_count": 12,
   "id": "8aefff43",
   "metadata": {},
   "outputs": [
    {
     "name": "stdout",
     "output_type": "stream",
     "text": [
      "13\n",
      "47\n"
     ]
    }
   ],
   "source": [
    "def find_nth_term(a, d, N):\n",
    "    return a + (N - 1) * d\n",
    "print(find_nth_term(3, 2, 6))  # Output: 6\n",
    "print(find_nth_term(2, 5, 10))  # Output: 23"
   ]
  },
  {
   "cell_type": "markdown",
   "id": "92c07b26",
   "metadata": {},
   "source": [
    "Example 1:\n",
    "\n",
    "*Input:*\n",
    "\n",
    "S = “ABC”\n",
    "\n",
    "*Output:*\n",
    "\n",
    "“ABC”, “ACB”, “BAC”, “BCA”, “CBA”, “CAB”\n",
    "\n",
    "Example 2:\n",
    "\n",
    "*Input:*\n",
    "\n",
    "S = “XY”\n",
    "\n",
    "*Output:*\n",
    "\n",
    "“XY”, “YX”Question 7Given a string S, the task is to write a program to print all permutations of a given string."
   ]
  },
  {
   "cell_type": "code",
   "execution_count": 13,
   "id": "1f89c906",
   "metadata": {},
   "outputs": [],
   "source": [
    "def permute(S):\n",
    "    # Base case: If the length of S is 1, return the string itself as the only permutation\n",
    "    if len(S) == 1:\n",
    "        return [S]\n",
    "\n",
    "    # Set to store all permutations\n",
    "    permutations = []\n",
    "\n",
    "    # Generate permutations for each character in S\n",
    "    for i in range(len(S)):\n",
    "        # Remove character at index i from S\n",
    "        c = S[i]\n",
    "        S_without_c = S[:i] + S[i+1:]\n",
    "\n",
    "        # Recursively generate all permutations of S_without_c\n",
    "        sub_permutations = permute(S_without_c)\n",
    "\n",
    "        # Append c to each permutation\n",
    "        for sub_permutation in sub_permutations:\n",
    "            permutations.append(c + sub_permutation)\n",
    "\n",
    "    return permutations"
   ]
  },
  {
   "cell_type": "code",
   "execution_count": 14,
   "id": "27a19b5e",
   "metadata": {},
   "outputs": [
    {
     "name": "stdout",
     "output_type": "stream",
     "text": [
      "['ABC', 'ACB', 'BAC', 'BCA', 'CAB', 'CBA']\n",
      "['XY', 'YX']\n"
     ]
    }
   ],
   "source": [
    "S1 = \"ABC\"\n",
    "print(permute(S1))  # Output: ['ABC', 'ACB', 'BAC', 'BCA', 'CAB', 'CBA']\n",
    "\n",
    "S2 = \"XY\"\n",
    "print(permute(S2))  # Output: ['XY', 'YX']"
   ]
  },
  {
   "cell_type": "code",
   "execution_count": null,
   "id": "321ac9a9",
   "metadata": {},
   "outputs": [],
   "source": [
    "Question 8 Given an array, find a product of all array elements.\n",
    "Example 1:\n",
    "\n",
    "Input : arr[] = {1, 2, 3, 4, 5} Output : 120 Example 2:\n",
    "\n",
    "Input : arr[] = {1, 6, 3} Output : 18"
   ]
  },
  {
   "cell_type": "code",
   "execution_count": 15,
   "id": "4c656f01",
   "metadata": {},
   "outputs": [
    {
     "name": "stdout",
     "output_type": "stream",
     "text": [
      "120\n",
      "18\n"
     ]
    }
   ],
   "source": [
    "def product_of_array(arr):\n",
    "    product = 1\n",
    "    for num in arr:\n",
    "        product *= num\n",
    "    return product\n",
    "arr1 = [1, 2, 3, 4, 5]\n",
    "print(product_of_array(arr1))  # Output: 120\n",
    "\n",
    "arr2 = [1, 6, 3]\n",
    "print(product_of_array(arr2))  # Output: 18"
   ]
  },
  {
   "cell_type": "code",
   "execution_count": null,
   "id": "f0001cab",
   "metadata": {},
   "outputs": [],
   "source": []
  }
 ],
 "metadata": {
  "kernelspec": {
   "display_name": "Python 3 (ipykernel)",
   "language": "python",
   "name": "python3"
  },
  "language_info": {
   "codemirror_mode": {
    "name": "ipython",
    "version": 3
   },
   "file_extension": ".py",
   "mimetype": "text/x-python",
   "name": "python",
   "nbconvert_exporter": "python",
   "pygments_lexer": "ipython3",
   "version": "3.9.10"
  }
 },
 "nbformat": 4,
 "nbformat_minor": 5
}
