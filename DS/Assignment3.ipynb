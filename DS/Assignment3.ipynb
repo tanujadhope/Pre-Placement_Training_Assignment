{
 "cells": [
  {
   "cell_type": "markdown",
   "id": "7299beba",
   "metadata": {},
   "source": [
    "1. Scenario: A company wants to analyze the sales performance of its products in different regions. They have collected the following data:\n",
    "   Region A: [10, 15, 12, 8, 14]\n",
    "   Region B: [18, 20, 16, 22, 25]\n",
    "   Calculate the mean sales for each region.\n"
   ]
  },
  {
   "cell_type": "code",
   "execution_count": 4,
   "id": "5b95ddab",
   "metadata": {},
   "outputs": [
    {
     "name": "stdout",
     "output_type": "stream",
     "text": [
      "Mean of Region A is 11.8\n",
      "Mean of Region B is 20.2\n"
     ]
    }
   ],
   "source": [
    "import statistics\n",
    "import numpy as np\n",
    "Region_A= [10, 15, 12, 8, 14]\n",
    "Region_B=[18, 20, 16, 22, 25]\n",
    "print(\"Mean of Region A is\",statistics.mean(Region_A) )   \n",
    "print(\"Mean of Region B is\",statistics.mean(Region_B) )   \n"
   ]
  },
  {
   "cell_type": "markdown",
   "id": "20c1feb5",
   "metadata": {},
   "source": [
    "2. Scenario: A survey is conducted to measure customer satisfaction on a scale of 1 to 5. The data collected is as follows:\n",
    "   [4, 5, 2, 3, 5, 4, 3, 2, 4, 5]\n",
    "   Calculate the mode of the survey responses.\n"
   ]
  },
  {
   "cell_type": "code",
   "execution_count": 7,
   "id": "02339f1f",
   "metadata": {},
   "outputs": [
    {
     "name": "stdout",
     "output_type": "stream",
     "text": [
      "4\n"
     ]
    }
   ],
   "source": [
    "import numpy as np\n",
    "a = [4, 5, 2, 3, 5, 4, 3, 2, 4, 5]\n",
    "print(statistics.mode(a))"
   ]
  },
  {
   "cell_type": "markdown",
   "id": "eb099962",
   "metadata": {},
   "source": [
    "\n",
    "3. Scenario: A company wants to compare the salaries of two departments. The salary data for Department A and Department B are as follows:\n",
    "   Department A: [5000, 6000, 5500, 7000]\n",
    "   Department B: [4500, 5500, 5800, 6000, 5200]\n",
    "   Calculate the median salary for each department.\n"
   ]
  },
  {
   "cell_type": "code",
   "execution_count": 8,
   "id": "78057f03",
   "metadata": {},
   "outputs": [
    {
     "name": "stdout",
     "output_type": "stream",
     "text": [
      "Median of Region A is  5750.0\n",
      "Median of Region A is  5500\n"
     ]
    }
   ],
   "source": [
    "Department_A=[5000, 6000, 5500, 7000]\n",
    "Department_B= [4500, 5500, 5800, 6000, 5200]\n",
    "print(\"Median of Region A is \",statistics.median(Department_A))\n",
    "print(\"Median of Region A is \",statistics.median(Department_B))"
   ]
  },
  {
   "cell_type": "markdown",
   "id": "efca38ae",
   "metadata": {},
   "source": [
    "4. Scenario: A data analyst wants to determine the variability in the daily stock prices of a company. The data collected is as follows:\n",
    "   [25.5, 24.8, 26.1, 25.3, 24.9]\n",
    "   Calculate the range of the stock prices.\n"
   ]
  },
  {
   "cell_type": "code",
   "execution_count": 12,
   "id": "10c4ebc7",
   "metadata": {},
   "outputs": [
    {
     "name": "stdout",
     "output_type": "stream",
     "text": [
      " The range is: 1.3000000000000007\n"
     ]
    }
   ],
   "source": [
    "A=[25.5, 24.8, 26.1, 25.3, 24.9]\n",
    "max_A=max(A)\n",
    "min_A=min(A)\n",
    "print(\" The range is:\",max_A-min_A)"
   ]
  },
  {
   "cell_type": "markdown",
   "id": "b4046a2d",
   "metadata": {},
   "source": [
    "5. Scenario: A study is conducted to compare the performance of two different teaching methods. The test scores of the students in each group are as follows:\n",
    "   Group A: [85, 90, 92, 88, 91]\n",
    "   Group B: [82, 88, 90, 86, 87]\n",
    "   Perform a t-test to determine if there is a significant difference in the mean scores between the two groups.\n"
   ]
  },
  {
   "cell_type": "code",
   "execution_count": 14,
   "id": "e048942f",
   "metadata": {},
   "outputs": [
    {
     "data": {
      "text/plain": [
       "Ttest_indResult(statistic=1.4312528946642733, pvalue=0.19023970239078333)"
      ]
     },
     "execution_count": 14,
     "metadata": {},
     "output_type": "execute_result"
    }
   ],
   "source": [
    "import scipy.stats as stats\n",
    "Group_A=[85, 90, 92, 88, 91]\n",
    "Group_B=[82, 88, 90, 86, 87]\n",
    "\n",
    "# Perform the two sample t-test with equal variances\n",
    "stats.ttest_ind(a=Group_A, b=Group_B, equal_var=True)"
   ]
  },
  {
   "cell_type": "markdown",
   "id": "6c0d4c84",
   "metadata": {},
   "source": [
    "Here, since the p-value (0.1902397) is greater than alpha = 0.05 so we cannot reject the null hypothesis of the test.0 => µ1 = µ2 (population mean of A is equal to B)"
   ]
  },
  {
   "cell_type": "markdown",
   "id": "75319f96",
   "metadata": {},
   "source": [
    "6.Scenario: A company wants to analyze the relationship between advertising expenditure and sales. The data collected is as follows:\n",
    "   Advertising Expenditure (in thousands): [10, 15, 12, 8, 14]\n",
    "   Sales (in thousands): [25, 30, 28, 20, 26]\n",
    "   Calculate the correlation coefficient between advertising expenditure and sales.\n"
   ]
  },
  {
   "cell_type": "code",
   "execution_count": 26,
   "id": "58cde5ff",
   "metadata": {},
   "outputs": [],
   "source": [
    " import pandas as pd\n",
    "import numpy as np\n",
    "import seaborn as sns\n",
    "import matplotlib.pyplot as plt\n",
    "Adv_Expenditure= [10, 15, 12, 8, 14]\n",
    "Sales= [25, 30, 28, 20, 26]"
   ]
  },
  {
   "cell_type": "code",
   "execution_count": 27,
   "id": "f384f349",
   "metadata": {},
   "outputs": [],
   "source": [
    "df=pd.DataFrame(Adv_Expenditure,columns=['Adv_Expenditure'])\n"
   ]
  },
  {
   "cell_type": "code",
   "execution_count": 28,
   "id": "c18268cb",
   "metadata": {},
   "outputs": [],
   "source": [
    "df['Sales']=pd.DataFrame(Sales)"
   ]
  },
  {
   "cell_type": "code",
   "execution_count": 29,
   "id": "5039695f",
   "metadata": {},
   "outputs": [
    {
     "data": {
      "text/html": [
       "<div>\n",
       "<style scoped>\n",
       "    .dataframe tbody tr th:only-of-type {\n",
       "        vertical-align: middle;\n",
       "    }\n",
       "\n",
       "    .dataframe tbody tr th {\n",
       "        vertical-align: top;\n",
       "    }\n",
       "\n",
       "    .dataframe thead th {\n",
       "        text-align: right;\n",
       "    }\n",
       "</style>\n",
       "<table border=\"1\" class=\"dataframe\">\n",
       "  <thead>\n",
       "    <tr style=\"text-align: right;\">\n",
       "      <th></th>\n",
       "      <th>Adv_Expenditure</th>\n",
       "      <th>Sales</th>\n",
       "    </tr>\n",
       "  </thead>\n",
       "  <tbody>\n",
       "    <tr>\n",
       "      <th>0</th>\n",
       "      <td>10</td>\n",
       "      <td>25</td>\n",
       "    </tr>\n",
       "    <tr>\n",
       "      <th>1</th>\n",
       "      <td>15</td>\n",
       "      <td>30</td>\n",
       "    </tr>\n",
       "    <tr>\n",
       "      <th>2</th>\n",
       "      <td>12</td>\n",
       "      <td>28</td>\n",
       "    </tr>\n",
       "    <tr>\n",
       "      <th>3</th>\n",
       "      <td>8</td>\n",
       "      <td>20</td>\n",
       "    </tr>\n",
       "    <tr>\n",
       "      <th>4</th>\n",
       "      <td>14</td>\n",
       "      <td>26</td>\n",
       "    </tr>\n",
       "  </tbody>\n",
       "</table>\n",
       "</div>"
      ],
      "text/plain": [
       "   Adv_Expenditure  Sales\n",
       "0               10     25\n",
       "1               15     30\n",
       "2               12     28\n",
       "3                8     20\n",
       "4               14     26"
      ]
     },
     "execution_count": 29,
     "metadata": {},
     "output_type": "execute_result"
    }
   ],
   "source": [
    "df"
   ]
  },
  {
   "cell_type": "code",
   "execution_count": 30,
   "id": "7dec0aeb",
   "metadata": {},
   "outputs": [
    {
     "data": {
      "text/html": [
       "<div>\n",
       "<style scoped>\n",
       "    .dataframe tbody tr th:only-of-type {\n",
       "        vertical-align: middle;\n",
       "    }\n",
       "\n",
       "    .dataframe tbody tr th {\n",
       "        vertical-align: top;\n",
       "    }\n",
       "\n",
       "    .dataframe thead th {\n",
       "        text-align: right;\n",
       "    }\n",
       "</style>\n",
       "<table border=\"1\" class=\"dataframe\">\n",
       "  <thead>\n",
       "    <tr style=\"text-align: right;\">\n",
       "      <th></th>\n",
       "      <th>Adv_Expenditure</th>\n",
       "      <th>Sales</th>\n",
       "    </tr>\n",
       "  </thead>\n",
       "  <tbody>\n",
       "    <tr>\n",
       "      <th>Adv_Expenditure</th>\n",
       "      <td>1.000000</td>\n",
       "      <td>0.875751</td>\n",
       "    </tr>\n",
       "    <tr>\n",
       "      <th>Sales</th>\n",
       "      <td>0.875751</td>\n",
       "      <td>1.000000</td>\n",
       "    </tr>\n",
       "  </tbody>\n",
       "</table>\n",
       "</div>"
      ],
      "text/plain": [
       "                 Adv_Expenditure     Sales\n",
       "Adv_Expenditure         1.000000  0.875751\n",
       "Sales                   0.875751  1.000000"
      ]
     },
     "execution_count": 30,
     "metadata": {},
     "output_type": "execute_result"
    }
   ],
   "source": [
    "df.corr()"
   ]
  },
  {
   "cell_type": "code",
   "execution_count": 31,
   "id": "14b726e7",
   "metadata": {},
   "outputs": [
    {
     "data": {
      "image/png": "[encoded data removed]",
      "text/plain": [
       "<Figure size 640x480 with 2 Axes>"
      ]
     },
     "metadata": {},
     "output_type": "display_data"
    }
   ],
   "source": [
    "sns.heatmap(df.corr());"
   ]
  },
  {
   "cell_type": "markdown",
   "id": "afe82fd4",
   "metadata": {},
   "source": [
    "heatmap Correlation plot clearly indicates that advertisment expenditure  and sales are positively correlated with each other."
   ]
  },
  {
   "cell_type": "markdown",
   "id": "05960373",
   "metadata": {},
   "source": [
    "7. Scenario: A survey is conducted to measure the heights of a group of people. The data collected is as follows:\n",
    "   [160, 170, 165, 155, 175, 180, 170]\n",
    "   Calculate the standard deviation of the heights.\n"
   ]
  },
  {
   "cell_type": "code",
   "execution_count": 33,
   "id": "4de553c7",
   "metadata": {},
   "outputs": [
    {
     "name": "stdout",
     "output_type": "stream",
     "text": [
      "The standard Deviation is 8.591246929842246\n"
     ]
    }
   ],
   "source": [
    "import statistics\n",
    "a= [160, 170, 165, 155, 175, 180, 170]\n",
    "print(\"The standard Deviation is\",statistics.stdev(a))"
   ]
  },
  {
   "cell_type": "markdown",
   "id": "f210c422",
   "metadata": {},
   "source": [
    "8. Scenario: A company wants to analyze the relationship between employee tenure and job satisfaction. The data collected is as follows:\n",
    "   Employee Tenure (in years): [2, 3, 5, 4, 6, 2, 4]\n",
    "   Job Satisfaction (on a scale of 1 to 10): [7, 8, 6, 9, 5, 7, 6]\n",
    "   Perform a linear regression analysis to predict job satisfaction based on employee tenure.\n"
   ]
  },
  {
   "cell_type": "code",
   "execution_count": 55,
   "id": "a697ac6e",
   "metadata": {},
   "outputs": [
    {
     "name": "stdout",
     "output_type": "stream",
     "text": [
      "R2 is  0.27099664053751393\n"
     ]
    },
    {
     "data": {
      "image/png": "[encoded data removed]",
      "text/plain": [
       "<Figure size 640x480 with 1 Axes>"
      ]
     },
     "metadata": {},
     "output_type": "display_data"
    }
   ],
   "source": [
    "from scipy import stats\n",
    "Employee_Tenure= [2, 3, 5, 4, 6, 2, 4]\n",
    "Job_Satisfaction =[7, 8, 6, 9, 5, 7, 6]\n",
    "X=np.reshape(Employee_Tenure,(7))\n",
    "Y=np.reshape(Job_Satisfaction,(7))\n",
    "\n",
    "%matplotlib inline\n",
    "import numpy as np\n",
    "from pylab import *\n",
    "\n",
    "slope, intercept, r_value, p_value, std_err = stats.linregress(X,Y)\n",
    "\n",
    "print(\"R2 is \",r_value ** 2)\n",
    "\n",
    "\n",
    "import matplotlib.pyplot as plt\n",
    "\n",
    "def predict(x):\n",
    "    return slope * x + intercept\n",
    "\n",
    "fitLine = predict(X)\n",
    "\n",
    "plt.scatter(X,Y) ## plotting actual Employee_Tenure and Job Satisfaction values\n",
    "plt.plot(X,fitLine, c='r') ### Plotting Predictated Job Satisfaction values\n",
    "plt.show()"
   ]
  },
  {
   "cell_type": "markdown",
   "id": "000dc86a",
   "metadata": {},
   "source": [
    "\n",
    "9. Scenario: A study is conducted to compare the effectiveness of two different medications. The recovery times of the patients in each group are as follows:\n",
    "   Medication A: [10, 12, 14, 11, 13]\n",
    "   Medication B: [15, 17, 16, 14, 18]\n",
    "   Perform an analysis of variance (ANOVA) to determine if there is a significant difference in the mean recovery times between the two medications.\n"
   ]
  },
  {
   "cell_type": "code",
   "execution_count": 57,
   "id": "696e7caf",
   "metadata": {},
   "outputs": [
    {
     "data": {
      "text/plain": [
       "F_onewayResult(statistic=16.0, pvalue=0.003949772803445326)"
      ]
     },
     "execution_count": 57,
     "metadata": {},
     "output_type": "execute_result"
    }
   ],
   "source": [
    "# Importing library\n",
    "from scipy.stats import f_oneway\n",
    "MedicationA=[10, 12, 14, 11, 13]\n",
    "MedicationB=[15, 17, 16, 14, 18]\n",
    "\n",
    " \n",
    "# Conduct the one-way ANOVA\n",
    "f_oneway(MedicationA,MedicationB)"
   ]
  },
  {
   "cell_type": "markdown",
   "id": "06058be2",
   "metadata": {},
   "source": [
    " Since the p-value is less than 0.05 hence we would reject the null hypothesis that there is a not significant differnece in the mean recovery times between the two medications.This implies that we have sufficient proof to say that there exists a differencein the mean recovery times between the two medications."
   ]
  },
  {
   "cell_type": "markdown",
   "id": "598b4c0c",
   "metadata": {},
   "source": [
    "10. Scenario: A company wants to analyze customer feedback ratings on a scale of 1 to 10. The data collected is\n",
    "\n",
    " as follows:\n",
    "    [8, 9, 7, 6, 8, 10, 9, 8, 7, 8]\n",
    "    Calculate the 75th percentile of the feedback ratings.\n"
   ]
  },
  {
   "cell_type": "code",
   "execution_count": 58,
   "id": "80931877",
   "metadata": {},
   "outputs": [
    {
     "name": "stdout",
     "output_type": "stream",
     "text": [
      "arr :  [8, 9, 7, 6, 8, 10, 9, 8, 7, 8]\n",
      "75th percentile of arr :  8.75\n"
     ]
    }
   ],
   "source": [
    "import numpy as np\n",
    "   \n",
    "# 1D array\n",
    "arr = [8, 9, 7, 6, 8, 10, 9, 8, 7, 8]\n",
    "print(\"arr : \", arr)\n",
    "print(\"75th percentile of arr : \",\n",
    "       np.percentile(arr, 75))"
   ]
  },
  {
   "cell_type": "markdown",
   "id": "caf6a29f",
   "metadata": {},
   "source": [
    "11. Scenario: A quality control department wants to test the weight consistency of a product. The weights of a sample of products are as follows:\n",
    "    [10.2, 9.8, 10.0, 10.5, 10.3, 10.1]\n",
    "    Perform a hypothesis test to determine if the mean weight differs significantly from 10 grams.\n"
   ]
  },
  {
   "cell_type": "code",
   "execution_count": 62,
   "id": "74c782cf",
   "metadata": {},
   "outputs": [
    {
     "name": "stdout",
     "output_type": "stream",
     "text": [
      "mean=10.15 stdv=0.22\n",
      "ztest score 1.5126584522688367\n",
      "p_value 0.13036643831594386\n",
      "we are accepting null hypothesis\n"
     ]
    }
   ],
   "source": [
    "data= [10.2, 9.8, 10.0, 10.5, 10.3, 10.1]\n",
    "\n",
    "#The null hypothesis is H0: μ = 10grams\n",
    "#The alternate hypothesis is H1: μ -/ i.e >< 10 grams\n",
    "\n",
    "from statsmodels.stats.weightstats import ztest\n",
    "print('mean=%.2f stdv=%.2f' % (np.mean(data), np.std(data)))\n",
    "ztest_Score, p_value= ztest(data,value = null_mean)\n",
    "\n",
    "print(\"ztest score\",ztest_Score)\n",
    "print(\"p_value\",p_value)\n",
    "\n",
    "if p_value < 0.05:    # alpha value is 0.05 or 5%\n",
    "    print(\" we are rejecting null hypothesis\")\n",
    "else:\n",
    "    print(\"we are accepting null hypothesis\")\n",
    "\n"
   ]
  },
  {
   "cell_type": "markdown",
   "id": "02477fa2",
   "metadata": {},
   "source": [
    "12. Scenario: A company wants to analyze the click-through rates of two different website designs. The number of clicks for each design is as follows:\n",
    "    Design A: [100, 120, 110, 90, 95]\n",
    "    Design B: [80, 85, 90, 95, 100]\n",
    "    Perform a chi-square test to determine if there is a significant difference in the click-through rates between the two designs.\n"
   ]
  },
  {
   "cell_type": "code",
   "execution_count": 74,
   "id": "af5684fa",
   "metadata": {},
   "outputs": [
    {
     "name": "stdout",
     "output_type": "stream",
     "text": [
      "chi square value determined by formula : 24.36936704506364\n",
      "Chi-Square critical value : 9.487729036781154\n"
     ]
    }
   ],
   "source": [
    "import scipy.stats as stats\n",
    "##assime alph=0.05\n",
    "DesignA=[100, 120, 110, 90, 95]\n",
    "DesignB= [80, 85, 90, 95, 100]\n",
    "# determining chi square goodness of fit using formula\n",
    "chi_square_test_statistic1 = 0\n",
    "for i in range(len(DesignA)):\n",
    "    chi_square_test_statistic1 = chi_square_test_statistic1 + \\\n",
    "        (np.square(DesignA[i]-DesignB[i]))/DesignB[i]\n",
    "  \n",
    "  \n",
    "print('chi square value determined by formula : ' +\n",
    "      str(chi_square_test_statistic1))\n",
    "  \n",
    "# find Chi-Square critical value\n",
    "print(\"Chi-Square critical value :\",stats.chi2.ppf(1-0.05, df=4))"
   ]
  },
  {
   "cell_type": "markdown",
   "id": "348c7e3a",
   "metadata": {},
   "source": [
    "Yes there is significant diiferenc in the click -through rates between the two designs"
   ]
  },
  {
   "cell_type": "markdown",
   "id": "3d2d1f85",
   "metadata": {},
   "source": [
    "13. Scenario: A survey is conducted to measure customer satisfaction with a product on a scale of 1 to 10. The data collected is as follows:\n",
    "    [7, 9, 6, 8, 10, 7, 8, 9, 7, 8]\n",
    "    Calculate the 95% confidence interval for the population mean satisfaction score.\n"
   ]
  },
  {
   "cell_type": "code",
   "execution_count": 32,
   "id": "535bdede",
   "metadata": {},
   "outputs": [
    {
     "name": "stderr",
     "output_type": "stream",
     "text": [
      "C:\\Users\\pc\\AppData\\Local\\Temp\\ipykernel_13828\\697000894.py:10: DeprecationWarning: Use of keyword argument 'alpha' for method 'interval' is deprecated and wil be removed in SciPy 1.11.0. Use first positional argument or keyword argument 'confidence' instead.\n",
      "  stats.t.interval(alpha=0.05, df=10-1,\n"
     ]
    },
    {
     "data": {
      "text/plain": [
       "(7.875589481238781, 7.92441051876122)"
      ]
     },
     "execution_count": 32,
     "metadata": {},
     "output_type": "execute_result"
    }
   ],
   "source": [
    "import scipy.stats as stats\n",
    "survey_satisfaction=[7, 9, 6, 8, 10, 7, 8, 9, 7, 8]\n",
    "a=np.reshape(survey_satisfaction,(10))\n",
    "mean1=np.mean(a)\n",
    "\n",
    "##CI=0.95,SL=1-0.95=0.05\n",
    "\n",
    "\n",
    "# create 90% confidence interval\n",
    "stats.t.interval(alpha=0.05, df=10-1,\n",
    "              loc=mean1,\n",
    "              scale=stats.sem(a))"
   ]
  },
  {
   "cell_type": "markdown",
   "id": "7f498539",
   "metadata": {},
   "source": [
    "14. Scenario: A company wants to analyze the effect of temperature on product performance. The data collected is as follows:\n",
    "    Temperature (in degrees Celsius): [20, 22, 23, 19, 21]\n",
    "    Performance (on a scale of 1 to 10): [8, 7, 9, 6, 8]\n",
    "    Perform a simple linear regression to predict performance based on temperature.\n"
   ]
  },
  {
   "cell_type": "code",
   "execution_count": 84,
   "id": "807dab48",
   "metadata": {},
   "outputs": [
    {
     "name": "stdout",
     "output_type": "stream",
     "text": [
      "R2 is  0.4807692307692307\n"
     ]
    },
    {
     "data": {
      "image/png": "[encoded data removed]",
      "text/plain": [
       "<Figure size 640x480 with 1 Axes>"
      ]
     },
     "metadata": {},
     "output_type": "display_data"
    }
   ],
   "source": [
    "from scipy import stats\n",
    "Temperature= [20, 22, 23, 19, 21]\n",
    "Performance = [8, 7, 9, 6, 8]\n",
    "X=np.reshape(Temperature,(5))\n",
    "Y=np.reshape(Performance,(5))\n",
    "\n",
    "%matplotlib inline\n",
    "import numpy as np\n",
    "from pylab import *\n",
    "\n",
    "slope, intercept, r_value, p_value, std_err = stats.linregress(X,Y)\n",
    "\n",
    "print(\"R2 is \",r_value ** 2)\n",
    "\n",
    "\n",
    "import matplotlib.pyplot as plt\n",
    "\n",
    "def predict(x):\n",
    "    return slope * x + intercept\n",
    "\n",
    "fitLine = predict(X)\n",
    "\n",
    "plt.scatter(X,Y) ## plotting actual Tempaerature and Performance values\n",
    "plt.plot(X,fitLine, c='r') ### Plotting Predictated Performance values\n",
    "plt.show()"
   ]
  },
  {
   "cell_type": "markdown",
   "id": "fa8a9e56",
   "metadata": {},
   "source": [
    "15. Scenario: A study is conducted to compare the preferences of two groups of participants. The preferences are measured on a Likert scale from 1 to 5. The data collected is as follows:\n",
    "    Group A: [4, 3, 5, 2, 4]\n",
    "    Group B: [3, 2, 4, 3, 3]\n",
    "    Perform a Mann-Whitney U test to determine if there is a significant difference in the median preferences between the two groups.\n"
   ]
  },
  {
   "cell_type": "code",
   "execution_count": 1,
   "id": "6984e7fa",
   "metadata": {},
   "outputs": [
    {
     "name": "stdout",
     "output_type": "stream",
     "text": [
      "Statistics=17.00, p=0.38\n",
      "Do not Reject Null Hypothesis (No significant difference between two samples)\n"
     ]
    }
   ],
   "source": [
    "# Mann-Whitney U test\n",
    "from scipy.stats import mannwhitneyu\n",
    "# Take batch 1 and batch 2 data as per above example\n",
    "GroupA =[4, 3, 5, 2, 4] \n",
    "GroupB  = [3, 2, 4, 3, 3]\n",
    "\n",
    "# perform mann whitney test\n",
    "stat, p_value = mannwhitneyu(GroupA, GroupB )\n",
    "print('Statistics=%.2f, p=%.2f' % (stat, p_value))\n",
    "# Level of significance\n",
    "alpha = 0.05\n",
    "# conclusion\n",
    "if p_value < alpha:\n",
    "\tprint('Reject Null Hypothesis (Significant difference between two samples)')\n",
    "else:\n",
    "\tprint('Do not Reject Null Hypothesis (No significant difference between two samples)')\n"
   ]
  },
  {
   "cell_type": "markdown",
   "id": "e4ee6204",
   "metadata": {},
   "source": [
    "16. Scenario: A company wants to analyze the distribution of customer ages. The data collected is as follows:\n",
    "    [25, 30, 35, 40, 45, 50, 55, 60, 65, 70]\n",
    "    Calculate the interquartile range (IQR) of the ages.\n"
   ]
  },
  {
   "cell_type": "code",
   "execution_count": 4,
   "id": "3df78ef8",
   "metadata": {},
   "outputs": [
    {
     "name": "stdout",
     "output_type": "stream",
     "text": [
      "IQR: 22.5\n"
     ]
    }
   ],
   "source": [
    "import numpy as np\n",
    "a= [25, 30, 35, 40, 45, 50, 55, 60, 65, 70] \n",
    "A_75=np.percentile(a, 75)\n",
    "A_25=np.percentile(a, 25)\n",
    "IQR=A_75-A_25\n",
    "print(\"IQR:\",IQR)"
   ]
  },
  {
   "cell_type": "markdown",
   "id": "d657514f",
   "metadata": {},
   "source": [
    "17. Scenario: A study is conducted to compare the performance of three different machine learning algorithms. The accuracy scores for each algorithm are as follows:\n",
    "    Algorithm A: [0.85, 0.80, 0.82, 0.87, 0.83]\n",
    "    Algorithm B: [0.78, 0.82, 0.84, 0.80, 0.79]\n",
    "    Algorithm C: [0.90, 0.88, 0.89, 0.86, 0.87]\n",
    "    Perform a Kruskal-Wallis test to determine if there is a significant difference in the median accuracy scores between the algorithms.\n",
    "\n"
   ]
  },
  {
   "cell_type": "code",
   "execution_count": 6,
   "id": "bca81d51",
   "metadata": {},
   "outputs": [
    {
     "name": "stdout",
     "output_type": "stream",
     "text": [
      "KruskalResult(statistic=9.696947935368053, pvalue=0.007840333026249539)\n",
      "Do not Reject Null Hypothesis (No significant difference between two samples)\n"
     ]
    }
   ],
   "source": [
    "from scipy import stats\n",
    "\n",
    "AlgorithmA= [0.85, 0.80, 0.82, 0.87, 0.83]\n",
    "AlgorithmB= [0.78, 0.82, 0.84, 0.80, 0.79]\n",
    "AlgorithmC=[0.90, 0.88, 0.89, 0.86, 0.87]\n",
    "\n",
    "\n",
    "# Conduct the Kruskal-Wallis Test\n",
    "result = stats.kruskal(AlgorithmA, AlgorithmB, AlgorithmC)\n",
    " \n",
    "# Print the result\n",
    "print(result)\n",
    "alpha = 0.05\n",
    "# conclusion\n",
    "if p_value < alpha:\n",
    "\tprint('Reject Null Hypothesis (Significant difference between two samples)')\n",
    "else:\n",
    "\tprint('Do not Reject Null Hypothesis (No significant difference between two samples)')\n"
   ]
  },
  {
   "cell_type": "markdown",
   "id": "83aa5c22",
   "metadata": {},
   "source": [
    "18. Scenario: A company wants to analyze the effect of price on sales. The data collected is as follows:\n",
    "    Price (in dollars): [10, 15, 12, 8, 14]\n",
    "    Sales: [100, 80, 90, 110, 95]\n",
    "    Perform a simple linear regression to predict sales based on price.\n"
   ]
  },
  {
   "cell_type": "code",
   "execution_count": 8,
   "id": "93db02ff",
   "metadata": {},
   "outputs": [
    {
     "name": "stdout",
     "output_type": "stream",
     "text": [
      "R2 is  0.8064024390243901\n"
     ]
    },
    {
     "data": {
      "image/png": "[encoded data removed]",
      "text/plain": [
       "<Figure size 640x480 with 1 Axes>"
      ]
     },
     "metadata": {},
     "output_type": "display_data"
    }
   ],
   "source": [
    "from scipy import stats\n",
    "price = [10, 15, 12, 8, 14]\n",
    "sales= [100, 80, 90, 110, 95]\n",
    "X=np.reshape(price ,(5))\n",
    "Y=np.reshape(sales,(5))\n",
    "\n",
    "%matplotlib inline\n",
    "import numpy as np\n",
    "from pylab import *\n",
    "\n",
    "slope, intercept, r_value, p_value, std_err = stats.linregress(X,Y)\n",
    "\n",
    "print(\"R2 is \",r_value ** 2)\n",
    "\n",
    "\n",
    "import matplotlib.pyplot as plt\n",
    "\n",
    "def predict(x):\n",
    "    return slope * x + intercept\n",
    "\n",
    "fitLine = predict(X)\n",
    "\n",
    "plt.scatter(X,Y) ## plotting actual price and sales values\n",
    "plt.plot(X,fitLine, c='r') ### Plotting Predictated sales values\n",
    "plt.show()"
   ]
  },
  {
   "cell_type": "markdown",
   "id": "b9c616f0",
   "metadata": {},
   "source": [
    "19. Scenario: A survey is conducted to measure the satisfaction levels of customers with a new product. The data collected is as follows:\n",
    "    [7, 8, 9, 6, 8, 7, 9, 7, 8, 7]\n",
    "    Calculate the standard error of the mean satisfaction score.\n",
    "\n"
   ]
  },
  {
   "cell_type": "code",
   "execution_count": 15,
   "id": "7b0d38f7",
   "metadata": {},
   "outputs": [
    {
     "name": "stdout",
     "output_type": "stream",
     "text": [
      "Std Deviation is: 0.9660917830792959\n",
      "Std error 0.30550504633038933\n"
     ]
    }
   ],
   "source": [
    "import statistics\n",
    "c=[7, 8, 9, 6, 8, 7, 9, 7, 8, 7]\n",
    "d=statistics.stdev(c)\n",
    "print(\"Std Deviation is:\", statistics.stdev(c))\n",
    "n=len(c)\n",
    "std_err=d/sqrt(n)\n",
    "print( \"Std error\",std_err)"
   ]
  },
  {
   "cell_type": "markdown",
   "id": "fd674821",
   "metadata": {},
   "source": [
    "20. Scenario: A company wants to analyze the relationship between advertising expenditure and sales. The data collected is as follows:\n",
    "    Advertising Expenditure (in thousands): [10, 15, 12, 8, 14]\n",
    "    Sales (in thousands): [25, 30, 28, 20, 26]\n",
    "    Perform a multiple regression analysis to predict sales based on advertising expenditure.\n",
    "\n"
   ]
  },
  {
   "cell_type": "code",
   "execution_count": 16,
   "id": "cabf586f",
   "metadata": {},
   "outputs": [
    {
     "name": "stdout",
     "output_type": "stream",
     "text": [
      "R2 is  0.7669400549639299\n"
     ]
    },
    {
     "data": {
      "image/png": "[encoded data removed]",
      "text/plain": [
       "<Figure size 640x480 with 1 Axes>"
      ]
     },
     "metadata": {},
     "output_type": "display_data"
    }
   ],
   "source": [
    "## As only one independent varible is given can not perform multiple LR \n",
    "import pandas as pd\n",
    "import numpy as np\n",
    "import seaborn as sns\n",
    "import matplotlib.pyplot as plt\n",
    "Adv_Expenditure= [10, 15, 12, 8, 14]\n",
    "Sales= [25, 30, 28, 20, 26]\n",
    "X=np.reshape(Adv_Expenditure,(5))\n",
    "Y=np.reshape(Sales,(5))\n",
    "\n",
    "%matplotlib inline\n",
    "import numpy as np\n",
    "from pylab import *\n",
    "\n",
    "slope, intercept, r_value, p_value, std_err = stats.linregress(X,Y)\n",
    "\n",
    "print(\"R2 is \",r_value ** 2)\n",
    "\n",
    "\n",
    "import matplotlib.pyplot as plt\n",
    "\n",
    "def predict(x):\n",
    "    return slope * x + intercept\n",
    "\n",
    "fitLine = predict(X)\n",
    "\n",
    "plt.scatter(X,Y) ## plotting actual advertisement expenditure and Sales values\n",
    "plt.plot(X,fitLine, c='r') ### Plotting Predictated Sales values\n",
    "plt.show()"
   ]
  },
  {
   "cell_type": "markdown",
   "id": "9043fe04",
   "metadata": {},
   "source": [
    "20. Scenario: A company wants to analyze the relationship between advertising expenditure and sales. The data collected is as follows:\n",
    "    Advertising Expenditure (in thousands): [10, 15, 12, 8, 14]\n",
    "    Sales (in thousands): [25, 30, 28, 20, 26]\n",
    "    Perform a multiple regression analysis to predict sales based on advertising expenditure."
   ]
  },
  {
   "cell_type": "code",
   "execution_count": 29,
   "id": "5d09643e",
   "metadata": {},
   "outputs": [
    {
     "name": "stdout",
     "output_type": "stream",
     "text": [
      "[-0.27777778 -0.5         0.02777778]\n"
     ]
    }
   ],
   "source": [
    "from sklearn.linear_model import LinearRegression\n",
    "import numpy as np\n",
    "\n",
    "# Assume you have independent variables X and a dependent variable y\n",
    "X = np.array([[10, 15, 12],[15, 12, 8],[12, 8, 14],[15, 12, 8],[8,14,10]])\n",
    "y = np.array([25, 30, 28, 20, 26])\n",
    "\n",
    "# Create an instance of the LinearRegression class\n",
    "reg = LinearRegression()\n",
    "\n",
    "# Fit the model to the data\n",
    "reg.fit(X, y)\n",
    "\n",
    "# Print the coefficients of the model\n",
    "print(reg.coef_)  ## b0,b1,b2\n"
   ]
  }
 ],
 "metadata": {
  "kernelspec": {
   "display_name": "Python 3 (ipykernel)",
   "language": "python",
   "name": "python3"
  },
  "language_info": {
   "codemirror_mode": {
    "name": "ipython",
    "version": 3
   },
   "file_extension": ".py",
   "mimetype": "text/x-python",
   "name": "python",
   "nbconvert_exporter": "python",
   "pygments_lexer": "ipython3",
   "version": "3.9.10"
  }
 },
 "nbformat": 4,
 "nbformat_minor": 5
}
