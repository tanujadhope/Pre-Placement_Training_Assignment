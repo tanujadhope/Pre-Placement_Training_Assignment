{
 "cells": [
  {
   "cell_type": "markdown",
   "id": "6267fe8e",
   "metadata": {},
   "source": [
    "17.Write a function that takes a list of numbers as input and returns a new list containing only the even numbers from the input list. Use list comprehension to solve this problem.\n"
   ]
  },
  {
   "cell_type": "code",
   "execution_count": 3,
   "id": "fc66c620",
   "metadata": {},
   "outputs": [
    {
     "name": "stdout",
     "output_type": "stream",
     "text": [
      "The Even numbers in given  [2, 4, 6, 8, 10]\n"
     ]
    }
   ],
   "source": [
    "##Example:##Input: [1, 2, 3, 4, 5, 6, 7, 8, 9, 10] ##Output: [2, 4, 6, 8, 10]\n",
    "    \n",
    "def even_no_cal(list1):\n",
    "    list2=[i  for i in list1 if i%2==0] \n",
    "    return list2\n",
    "    \n",
    "list1=[1, 2, 3, 4, 5, 6, 7, 8, 9, 10] \n",
    "print(\"The Even numbers in given \",even_no_cal(list1))"
   ]
  },
  {
   "cell_type": "markdown",
   "id": "7fb71deb",
   "metadata": {},
   "source": [
    "18. Implement a decorator function called ‘timer’ that measures the execution time of a function. The ‘timer’ decorator should print the time taken by the decorated function to execute. Use the ‘time’ module in Python to calculate the execution time.\n",
    "\n",
    "Example:\n",
    "\n",
    "import time\n",
    "\n",
    "@timer\n",
    "def my_function():\n",
    "    # Function code goes here\n",
    "    time.sleep(2)\n",
    "\n",
    "my_function()"
   ]
  },
  {
   "cell_type": "code",
   "execution_count": 20,
   "id": "338aab77",
   "metadata": {},
   "outputs": [
    {
     "name": "stdout",
     "output_type": "stream",
     "text": [
      "Function 'long_time' executed in 0.0011s\n"
     ]
    }
   ],
   "source": [
    "from time import time\n",
    "  \n",
    "\n",
    "def timer_func(func):\n",
    "    def wrap_func(*a, **b):\n",
    "        t1 = time()\n",
    "        result = func(*a, **b)\n",
    "        t2 = time()\n",
    "        print(f'Function {func.__name__!r} executed in {(t2-t1):.4f}s')\n",
    "        return result\n",
    "    return wrap_func\n",
    "   \n",
    "@timer_func\n",
    "def long_time(n):\n",
    "    for i in range(n):\n",
    "        for j in range(10000):\n",
    "            i*j\n",
    "  \n",
    "  \n",
    "long_time(5)\n"
   ]
  },
  {
   "cell_type": "markdown",
   "id": "74e11f40",
   "metadata": {},
   "source": [
    "19.Write a function called ‘calculate_mean’ that takes a list of numbers as input and returns the mean (average) of the numbers. The function should calculate the mean using the sum of the numbers divided by the total count."
   ]
  },
  {
   "cell_type": "code",
   "execution_count": 19,
   "id": "026b04b8",
   "metadata": {},
   "outputs": [
    {
     "name": "stdout",
     "output_type": "stream",
     "text": [
      "The mean of the list is: 5.5\n"
     ]
    }
   ],
   "source": [
    "\n",
    "def mean_cal(list1):\n",
    "    k=len(list1)\n",
    "    mean1=sum(list1)/k\n",
    "    return mean1\n",
    "        \n",
    "\n",
    "list1=[1, 2, 3, 4, 5, 6, 7, 8, 9, 10] \n",
    "print(\"The mean of the list is:\",mean_cal(list1))"
   ]
  },
  {
   "cell_type": "markdown",
   "id": "168eed35",
   "metadata": {},
   "source": [
    "20.Write a function called ‘perform_hypothesis_test’ that takes two lists of numbers as input, representing two samples. The function should perform a two-sample t-test and return the p-value. Use the ‘scipy.stats’ module in Python to calculate the t-test and p-value.\n"
   ]
  },
  {
   "cell_type": "code",
   "execution_count": 37,
   "id": "f457d89b",
   "metadata": {},
   "outputs": [
    {
     "name": "stdout",
     "output_type": "stream",
     "text": [
      "4.979591836734694 7.918367346938775\n",
      "The t_test and p-value is: Ttest_indResult(statistic=0.38974188147697836, pvalue=0.703556284613037)\n"
     ]
    }
   ],
   "source": [
    "import scipy.stats as stats\n",
    "import numpy as np\n",
    "\n",
    "def perform_hypothesis_test (l1,l2):\n",
    "    #Perform the two sample t-test with equal variances\n",
    "    return stats.ttest_ind(a=l1, b=l2, equal_var=True)\n",
    "     \n",
    "    \n",
    "    \n",
    "    \n",
    "l1=np.array([3,5,6,7,8,9,10])\n",
    "l2=np.array([8,2,3,5,7,9,10])\n",
    "# Print the variance of both groups\n",
    "print(np.var(l1), np.var(l2))\n",
    "\n",
    "print(\"The t_test and p-value is:\", perform_hypothesis_test (l1,l2))\n",
    "\n"
   ]
  },
  {
   "cell_type": "code",
   "execution_count": null,
   "id": "67a4d732",
   "metadata": {},
   "outputs": [],
   "source": []
  }
 ],
 "metadata": {
  "kernelspec": {
   "display_name": "Python 3 (ipykernel)",
   "language": "python",
   "name": "python3"
  },
  "language_info": {
   "codemirror_mode": {
    "name": "ipython",
    "version": 3
   },
   "file_extension": ".py",
   "mimetype": "text/x-python",
   "name": "python",
   "nbconvert_exporter": "python",
   "pygments_lexer": "ipython3",
   "version": "3.9.10"
  }
 },
 "nbformat": 4,
 "nbformat_minor": 5
}
