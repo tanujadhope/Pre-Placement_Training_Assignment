{
 "cells": [
  {
   "cell_type": "code",
   "execution_count": 3,
   "id": "1c928efc",
   "metadata": {},
   "outputs": [
    {
     "name": "stdout",
     "output_type": "stream",
     "text": [
      "enter the stringabcdefgh\n",
      "Original String is: abcdefgh\n",
      "Reverse string is : hgfedcba\n"
     ]
    }
   ],
   "source": [
    "#### 1.Write a Python program to reverse a string without using any built-in string reversal functions.### using list comprehensions \n",
    "\n",
    "def string_rev(string):\n",
    "    rev_string=  [string[x] for x in range (len(string)-1,-1,-1)]\n",
    "    return \"\".join(rev_string)\n",
    "\n",
    "string1=input(\"enter the string\")\n",
    "print(\"Original String is:\",string1)\n",
    "print(\"Reverse string is :\",string_rev(string1))"
   ]
  },
  {
   "cell_type": "markdown",
   "id": "f2da8bee",
   "metadata": {},
   "source": [
    "#### 1.Write a Python program to reverse a string without using any built-in string reversal functions"
   ]
  },
  {
   "cell_type": "code",
   "execution_count": 4,
   "id": "290741d0",
   "metadata": {},
   "outputs": [
    {
     "name": "stdout",
     "output_type": "stream",
     "text": [
      "enter the string:hi BUNNY\n",
      "Original string is :  hi BUNNY\n",
      "Rversed string is  YNNUB ih\n"
     ]
    }
   ],
   "source": [
    "# Using extended slice[ start,stop,step]\n",
    "\n",
    "def string_rev1(string):\n",
    "    rev_strg=string[::-1]\n",
    "    return rev_strg\n",
    "\n",
    "\n",
    "string1=input(\"enter the string:\")\n",
    "print(\"Original string is : \",string1 )\n",
    "print(\"Rversed string is \",string_rev1(string1))"
   ]
  },
  {
   "cell_type": "code",
   "execution_count": 12,
   "id": "e8d2b876",
   "metadata": {},
   "outputs": [
    {
     "name": "stdout",
     "output_type": "stream",
     "text": [
      "enter the string:pranju\n",
      "Original string is :  pranju\n",
      "Rversed string is  ujnarp\n"
     ]
    }
   ],
   "source": [
    "# USing Stack\n",
    "#Create stack,PUSH,POP ,check for empty stack\n",
    "\n",
    "# Function to create an empty stack. It\n",
    "# initializes size of stack as 0\n",
    "def Create_Stack():\n",
    "    stack = []\n",
    "    return stack\n",
    " \n",
    "# Function to determine the size of the stack\n",
    "def size(stack):\n",
    "    return len(stack)\n",
    "\n",
    "## check for Empty Stack\n",
    "def isEmptyStack(stack):\n",
    "    if size(stack)==0:\n",
    "        return true\n",
    "\n",
    " ## function to push element on stack,stack incremented by 1\n",
    "    \n",
    "def push(stack,item):\n",
    "    stack.append(item)\n",
    " ## function to pop element on stack,stack decremented by 1\n",
    "def pop(stack):\n",
    "    if isEmptyStack(stack):\n",
    "        return\n",
    "    else:\n",
    "        return stack.pop()\n",
    "    \n",
    "\n",
    "\n",
    "\n",
    "def reverse(string):\n",
    "    i = len(string)\n",
    " \n",
    "    # Create a empty stack\n",
    "    stack=Create_Stack()\n",
    " \n",
    "    # Push all characters of string to stack\n",
    "    \n",
    "    for x in range(0, i, 1):\n",
    "        push(stack, string[x])\n",
    " \n",
    "    # Making the string empty since all\n",
    "    # characters are saved in stack\n",
    "    string = \"\"\n",
    " \n",
    "    # Pop all characters of string and put\n",
    "    # them back to string\n",
    "    for x in range(0, i, 1):\n",
    "        string += pop(stack)\n",
    " \n",
    "    return string\n",
    "\n",
    "\n",
    "string1=input(\"enter the string:\")\n",
    "print(\"Original string is : \",string1 )\n",
    "print(\"Rversed string is \",reverse(string1))\n"
   ]
  },
  {
   "cell_type": "code",
   "execution_count": 8,
   "id": "27b8f798",
   "metadata": {},
   "outputs": [
    {
     "name": "stdout",
     "output_type": "stream",
     "text": [
      "enter the string:hi satisj\n",
      "Original string is :  hi satisj\n",
      "Rversed string is  jsitas ih\n"
     ]
    }
   ],
   "source": [
    "#using recursion\n",
    "def reverse(string):\n",
    "    if len(string)==0:\n",
    "        return string\n",
    "    else:\n",
    "        return reverse(string[1:])+string[0]\n",
    "\n",
    "string1=input(\"enter the string:\")\n",
    "print(\"Original string is : \",string1 )\n",
    "print(\"Rversed string is \",reverse(string1))\n"
   ]
  },
  {
   "cell_type": "code",
   "execution_count": 14,
   "id": "eefcfbb8",
   "metadata": {},
   "outputs": [
    {
     "name": "stdout",
     "output_type": "stream",
     "text": [
      "enter the string:tanuja\n",
      " string is not palindrome \n"
     ]
    }
   ],
   "source": [
    "###2. Implement a function to check if a given string is a palindrome.\n",
    "\n",
    "def ispalindrome(string):\n",
    "    return string[::-1]\n",
    "\n",
    "\n",
    "string1=input(\"enter the string:\")\n",
    "ans=ispalindrome(string1)\n",
    "if ans==1:\n",
    "    print(\" string is palindrome \")\n",
    "else:\n",
    "   print(\" string is not palindrome \") \n",
    "\n"
   ]
  },
  {
   "cell_type": "code",
   "execution_count": 18,
   "id": "26e09992",
   "metadata": {},
   "outputs": [
    {
     "name": "stdout",
     "output_type": "stream",
     "text": [
      "enter the string:ABBA\n",
      " string is palindrome \n"
     ]
    }
   ],
   "source": [
    "## iterative method\n",
    "\n",
    "def ispalindrome(string):\n",
    "\n",
    " # Run loop from 0 to len/2\n",
    "    for x in range(0,int(len(string)/2)):\n",
    "        if string[x]!=string[len(string)-x-1]:\n",
    "            return False\n",
    "        return True\n",
    "\n",
    "string1=input(\"enter the string:\")\n",
    "ans=ispalindrome(string1)\n",
    "if ans==1:\n",
    "    print(\" string is palindrome \")\n",
    "else:\n",
    "   print(\" string is not palindrome \") "
   ]
  },
  {
   "cell_type": "code",
   "execution_count": 19,
   "id": "e8479a52",
   "metadata": {},
   "outputs": [
    {
     "name": "stdout",
     "output_type": "stream",
     "text": [
      "largest element in the list is 99\n",
      "largest element in the list (using in build function) is 99\n"
     ]
    }
   ],
   "source": [
    "###3. Write a program to find the largest element in a given list.\n",
    "\n",
    "def largest_element(l):\n",
    "    max=l[0]\n",
    "    for i in l:\n",
    "        if i>max:\n",
    "            max=i\n",
    "    return max        \n",
    "\n",
    "\n",
    "list=[1,3,5,7,99,82]\n",
    "ans=largest_element(list)\n",
    "print(\"largest element in the list is\",ans)\n",
    "\n",
    "## with inbuild function\n",
    "\n",
    "print(\"largest element in the list (using in build function) is\",max(list))"
   ]
  },
  {
   "cell_type": "code",
   "execution_count": 26,
   "id": "d4b6e265",
   "metadata": {},
   "outputs": [
    {
     "name": "stdout",
     "output_type": "stream",
     "text": [
      "0 has occurred 1 times\n",
      "1 has occurred 2 times\n",
      "2 has occurred 0 times\n",
      "3 has occurred 1 times\n",
      "4 has occurred 1 times\n",
      "5 has occurred 2 times\n",
      "6 has occurred 1 times\n",
      "7 has occurred 0 times\n"
     ]
    }
   ],
   "source": [
    "### 4. Implement a function to count the occurrence of each element in a list.\n",
    "### which stores occurrences of all unique elements inside of a dictionary in the form a key value pair with the list item as key and its occurrences as value.\n",
    "from collections import Counter\n",
    "list =[1,3,4,5,5,6,8,8,9,1,0]\n",
    "d1=Counter(list)\n",
    "##print(\"length\",len(d1))\n",
    "##print(Counter(list))\n",
    "for x in range(0,len(d1)):\n",
    "    print('{} has occurred {} times'.format(x, d1[x]))"
   ]
  },
  {
   "cell_type": "code",
   "execution_count": 32,
   "id": "8f59917d",
   "metadata": {},
   "outputs": [
    {
     "name": "stdout",
     "output_type": "stream",
     "text": [
      "3 has occured 1 times\n"
     ]
    }
   ],
   "source": [
    "list =[1,3,4,5,5,6,8,8,9,1,0]\n",
    "occurrence = {x: list.count(x) for x in list}\n",
    "i=3\n",
    "print(\"{} has occured {} times\".format(i,occurrence.get(i)))"
   ]
  },
  {
   "cell_type": "code",
   "execution_count": 40,
   "id": "07f92227",
   "metadata": {},
   "outputs": [
    {
     "name": "stdout",
     "output_type": "stream",
     "text": [
      "Second largest element is: 45\n"
     ]
    }
   ],
   "source": [
    "###5. Write a Python program to find the second largest number in a list.\n",
    "# List of numbers\n",
    "del list\n",
    "list1 = [10,20,20,4,45,45,45,99,99]\n",
    " \n",
    "# Removing duplicates from the list\n",
    "l=set(list1)\n",
    "list2 = list(l)\n",
    " \n",
    "# Sorting the  list\n",
    "list2.sort()\n",
    " \n",
    "# Printing the second last element\n",
    "print(\"Second largest element is:\", list2[-2])"
   ]
  },
  {
   "cell_type": "code",
   "execution_count": 48,
   "id": "41132d8a",
   "metadata": {},
   "outputs": [
    {
     "name": "stdout",
     "output_type": "stream",
     "text": [
      "Second largest number is 4\n"
     ]
    }
   ],
   "source": [
    "def find_Largest(arr):\n",
    "    second_largest = 0\n",
    "    largest = min(arr)\n",
    "    for i in range (len(arr)):\n",
    "        if arr[i]>largest:\n",
    "            second_largest = largest\n",
    "            largest=arr[i]\n",
    "        else:\n",
    "            second_largest=max(second_largest,arr[i])\n",
    " \n",
    "    # Returning second largest element\n",
    "    return second_largest\n",
    " \n",
    " \n",
    "# Calling above method over this array set\n",
    "ans=find_Largest([10, 20, 4, 45, 99])\n",
    "print(\"Second largest number is\",ans)"
   ]
  },
  {
   "cell_type": "code",
   "execution_count": 51,
   "id": "8c5de14e",
   "metadata": {},
   "outputs": [
    {
     "name": "stdout",
     "output_type": "stream",
     "text": [
      "The original list is [30, 23, 34, 56, 78, 5, 6, 7, 8, 8, 9, 12, 12]\n",
      "Modified list  after removing duplicate elements from list is   [34, 5, 6, 7, 8, 9, 12, 78, 23, 56, 30]\n"
     ]
    }
   ],
   "source": [
    "###6. Implement a function to remove duplicate elements from a list.\n",
    "# Removing duplicates from the list\n",
    "def fun1(l2):\n",
    "    return list(set(l2))\n",
    "l1=[30,23,34,56,78,5,6,7,8,8,9,12,12]\n",
    "print(\"The original list is\",l1)\n",
    "print(\"Modified list  after removing duplicate elements from list is  \",fun1(l1))\n",
    " \n",
    "\n"
   ]
  },
  {
   "cell_type": "code",
   "execution_count": 52,
   "id": "f9eaf33b",
   "metadata": {},
   "outputs": [
    {
     "name": "stdout",
     "output_type": "stream",
     "text": [
      "Factorial of num 10 is 3628800\n"
     ]
    }
   ],
   "source": [
    "### 7.Write a program to calculate the factorial of a given number.\n",
    "def fact(n):\n",
    "    if n==0:\n",
    "        return 1\n",
    "    else:\n",
    "        return n*fact(n-1)\n",
    "x=10    \n",
    "print(\"Factorial of num {} is {}\" .format(x,fact(x)))    \n",
    "        \n",
    " "
   ]
  },
  {
   "cell_type": "code",
   "execution_count": 55,
   "id": "21cf0e9c",
   "metadata": {},
   "outputs": [
    {
     "name": "stdout",
     "output_type": "stream",
     "text": [
      "Please eneter numeber to check if it is prime?56\n",
      "False\n"
     ]
    }
   ],
   "source": [
    "### 8. Implement a function to check if a given number is prime.\n",
    "\n",
    "def isprime(x,i):\n",
    "    if x==i:\n",
    "        return True\n",
    "    if (x==0 or x==1):\n",
    "        return False\n",
    "    if x%i==0:\n",
    "        return False\n",
    "    i+=1\n",
    "    return isprime(x,i)\n",
    "\n",
    "\n",
    "num=int(input(\"Please eneter numeber to check if it is prime?\"))\n",
    "if isprime(num,2):\n",
    "    print('True')\n",
    "else:    \n",
    "   print('False') \n"
   ]
  },
  {
   "cell_type": "code",
   "execution_count": 58,
   "id": "976301d8",
   "metadata": {},
   "outputs": [
    {
     "name": "stdout",
     "output_type": "stream",
     "text": [
      "Sorted Array [10, 20, 21, 23, 45, 45]\n"
     ]
    }
   ],
   "source": [
    "### 9. Write a Python program to sort a list of integers in ascending order.\n",
    "def sort1(a):\n",
    "    arr1=sorted(arr)\n",
    "    return arr1\n",
    "\n",
    "\n",
    "arr=[10,20,23,45,21,45]\n",
    "ans=sorted(arr)\n",
    "print (\"Sorted Array\",ans)"
   ]
  },
  {
   "cell_type": "code",
   "execution_count": 61,
   "id": "43201f6e",
   "metadata": {},
   "outputs": [
    {
     "name": "stdout",
     "output_type": "stream",
     "text": [
      " The sum of all numbers in a list is:  164\n"
     ]
    }
   ],
   "source": [
    "### 10. Implement a function to find the sum of all numbers in a list.\n",
    "def sum1(a):\n",
    "    ans=0\n",
    "    for x in range (len(a)):\n",
    "        ans+=a[x]\n",
    "    return ans\n",
    "\n",
    "arr=[10,20,23,45,21,45]\n",
    "b=sum1(arr)\n",
    "print(\" The sum of all numbers in a list is: \",b)\n"
   ]
  },
  {
   "cell_type": "code",
   "execution_count": 62,
   "id": "e62fb412",
   "metadata": {},
   "outputs": [
    {
     "name": "stdout",
     "output_type": "stream",
     "text": [
      " The element in a list1:  [10, 20, 23, 45, 21, 45]\n",
      " The element in a list1:  [10, 21, 22, 34, 19, 45]\n",
      " The common element in both list is:  [10, 45]\n"
     ]
    }
   ],
   "source": [
    "### 11. Write a program to find the common elements between two lists.\n",
    "def com_ele(a,b):\n",
    "    c=[]\n",
    "    for x in range(len(a)):\n",
    "        if a[x]==b[x]:\n",
    "            c.append(a[x])\n",
    "    return c        \n",
    "        \n",
    "arr1=[10,20,23,45,21,45]\n",
    "arr2=[10,21,22,34,19,45]\n",
    "ans=com_ele(arr1,arr2)\n",
    "print(\" The element in a list1: \",arr1)\n",
    "print(\" The element in a list1: \",arr2)\n",
    "print(\" The common element in both list is: \",ans)"
   ]
  },
  {
   "cell_type": "code",
   "execution_count": 67,
   "id": "e41151f7",
   "metadata": {},
   "outputs": [
    {
     "name": "stdout",
     "output_type": "stream",
     "text": [
      " The both strings are Anagram\n"
     ]
    }
   ],
   "source": [
    "### 12. Implement a function to check if a given string is an anagram of another string.\n",
    "###An anagram of a string is another string that contains the same characters, only the order of characters can be different. For example, “abcd” and “dabc” are an anagram of each other.\n",
    "def anagram_check(l1,l2):\n",
    "    if sorted(l1)==sorted(l2):\n",
    "        return True\n",
    "    else:\n",
    "        return False\n",
    "    \n",
    "\n",
    "S1=\"hans\"\n",
    "S2=\"sanh\"\n",
    "ans=anagram_check(S1,S2)\n",
    "if ans==True:\n",
    "    print(\" The both strings are Anagram\")\n",
    "else:\n",
    "    print(\" The both strings are not Anagram\")\n"
   ]
  },
  {
   "cell_type": "code",
   "execution_count": 75,
   "id": "53b16bb9",
   "metadata": {},
   "outputs": [
    {
     "name": "stdout",
     "output_type": "stream",
     "text": [
      "Enter the string : ABCD\n",
      "All possible strings are : \n",
      "ABCD\n",
      "ABDC\n",
      "ACBD\n",
      "ACDB\n",
      "ADBC\n",
      "ADCB\n",
      "BACD\n",
      "BADC\n",
      "BCAD\n",
      "BCDA\n",
      "BDAC\n",
      "BDCA\n",
      "CABD\n",
      "CADB\n",
      "CBAD\n",
      "CBDA\n",
      "CDAB\n",
      "CDBA\n",
      "DABC\n",
      "DACB\n",
      "DBAC\n",
      "DBCA\n",
      "DCAB\n",
      "DCBA\n"
     ]
    }
   ],
   "source": [
    "### 13. Write a Python program to generate all permutations of a given string.\n",
    "\n",
    "def permute(s, answer):\n",
    "    if (len(s) == 0):\n",
    "        print(answer)\n",
    "        return\n",
    "    for i in range(len(s)):\n",
    "        ch=s[i]\n",
    "        left_substr=s[0:i]\n",
    "        right_substr=s[i+1:]\n",
    "        ttl= left_substr + right_substr\n",
    "        permute(ttl,answer+ch)\n",
    "\n",
    "\n",
    "answer = \"\"\n",
    "s = input(\"Enter the string : \")\n",
    "print(\"All possible strings are : \")\n",
    "permute(s, answer)\n",
    "# This code is contributed by Harshit Srivastava\n",
    "\n",
    "\n"
   ]
  },
  {
   "cell_type": "code",
   "execution_count": 85,
   "id": "087faf37",
   "metadata": {},
   "outputs": [
    {
     "name": "stdout",
     "output_type": "stream",
     "text": [
      "The fibonacci of 5 is 5\n"
     ]
    }
   ],
   "source": [
    "### 14. Implement a function to calculate the Fibonacci sequence up to a given number of terms.\n",
    "def fibonacci(n):\n",
    "    if n <= 1:\n",
    "        return n\n",
    "    else:\n",
    "        return (fibonacci(n-1) + fibonacci(n-2))\n",
    "n=5\n",
    "ans=fibonacci(n)\n",
    "print(\"The fibonacci of {} is {}\".format(n,ans))\n",
    "\n",
    "    "
   ]
  },
  {
   "cell_type": "code",
   "execution_count": 89,
   "id": "a81ebddc",
   "metadata": {},
   "outputs": [
    {
     "name": "stdout",
     "output_type": "stream",
     "text": [
      "Median of a given list is:12.0\n"
     ]
    }
   ],
   "source": [
    "### 15. Write a program to find the median of a list of numbers.\n",
    "\n",
    "l1=[30,23,34,56,78,5,6,7,8,8,9,12,12]\n",
    "l1.sort()\n",
    "mid = len(l1) // 2\n",
    "res = (l1[mid] + l1[~mid]) / 2\n",
    "print(\"Median of a given list is:\" + str(res))"
   ]
  },
  {
   "cell_type": "code",
   "execution_count": 97,
   "id": "76c555f2",
   "metadata": {},
   "outputs": [
    {
     "name": "stdout",
     "output_type": "stream",
     "text": [
      "No, List is not sorted.\n"
     ]
    }
   ],
   "source": [
    "### 16. Implement a function to check if a given list is sorted in non-decreasing order.\n",
    "\n",
    "def sort_non_decr(l4):\n",
    "    flag=0\n",
    "    i=1\n",
    "    while (i<len(l4)):\n",
    "        if(l4[i]<l4[i-1]):\n",
    "            flag=1\n",
    "        i+=1\n",
    "    return flag\n",
    "\n",
    "test_l3=[30,23,34,56,78,5,6,7,8,8,9,12,12]\n",
    "ans=sort_non_decr(test_l3)\n",
    "if (not ans) :\n",
    "    print (\"Yes, List is sorted.\")\n",
    "else :\n",
    "    print (\"No, List is not sorted.\")     \n",
    "    "
   ]
  },
  {
   "cell_type": "code",
   "execution_count": 100,
   "id": "9d439c7f",
   "metadata": {},
   "outputs": [
    {
     "name": "stdout",
     "output_type": "stream",
     "text": [
      "The intersection of two lists: [3, 10, 45]\n"
     ]
    }
   ],
   "source": [
    "### 17. Write a Python program to find the intersection of two lists.\n",
    "\n",
    "def intersection1(lst1,lst2):\n",
    "    lst5=[value for value in lst1 if value in lst2]\n",
    "    return lst5\n",
    "\n",
    "lst1=[3,4,6,9,10,23,45]\n",
    "lst2=[5,7,3,10,45,76]\n",
    "print(\"The intersection of two lists:\",intersection1(lst1,lst2))\n"
   ]
  },
  {
   "cell_type": "code",
   "execution_count": 105,
   "id": "6c3862e6",
   "metadata": {},
   "outputs": [
    {
     "name": "stdout",
     "output_type": "stream",
     "text": [
      "6 7 -3 1 5 "
     ]
    }
   ],
   "source": [
    "### 18. Implement a function to find the maximum subarray sum in a given list. \n",
    "\n",
    "def SubarrayWithMaxSum(nums):\n",
    "    currMax = nums[0]\n",
    "    globalMax = nums[0]  \n",
    "    \n",
    "    for x in range(0,len(nums)):\n",
    "        currMax = max(nums[x],currMax + nums[x])\n",
    "        \n",
    "        if currMax > globalMax:\n",
    "            globalMax = currMax\n",
    "            endindex = x\n",
    "    startIndex = endindex \n",
    "    \n",
    "    while (startIndex >= 0):\n",
    "        globalMax -= nums[startIndex]\n",
    "        if (globalMax == 0):\n",
    "            break\n",
    "    # Decrement the start index\n",
    "        startIndex -= 1\n",
    "\n",
    "# Printing the elements of subarray with max sum\n",
    "    for i in range(startIndex, endindex + 1):\n",
    "        print(nums[i], end = \" \")      \n",
    "    \n",
    "###    \n",
    "\n",
    "# Given array arr[]\n",
    "arr = [ -2, -5, 6, -2,-4, 6 , 7 ,-3, 1, 5, -6 ]\n",
    "\n",
    "# Function call\n",
    "SubarrayWithMaxSum(arr)\n",
    "\n",
    "\n"
   ]
  },
  {
   "cell_type": "code",
   "execution_count": 120,
   "id": "42fd26b2",
   "metadata": {},
   "outputs": [
    {
     "name": "stdout",
     "output_type": "stream",
     "text": [
      "The string after removing vowles is:  tnj\n",
      "The string after removing vowles is:  I lv Pn\n"
     ]
    }
   ],
   "source": [
    "###19. Write a program to remove all vowels from a given string.\n",
    "def vow_remove(s):\n",
    "    s1=\"aeiou\"\n",
    "    s2=[val for val in s if val not in s1] \n",
    "    return \"\".join (s2)\n",
    "\n",
    "s=\"tanujaoe\"\n",
    "s3=vow_remove(s)\n",
    "print(\"The string after removing vowles is: \",s3)\n",
    "s=\"I love Pune\"\n",
    "s3=vow_remove(s)\n",
    "print(\"The string after removing vowles is: \",s3)\n"
   ]
  },
  {
   "cell_type": "code",
   "execution_count": 121,
   "id": "a1bfed63",
   "metadata": {},
   "outputs": [
    {
     "name": "stdout",
     "output_type": "stream",
     "text": [
      "Enter the string : thidnmjkk\n",
      "The reverse oreder string is kkjmndiht\n"
     ]
    }
   ],
   "source": [
    "### 20. Implement a function to reverse the order of words in a given sentence.\n",
    "\n",
    "def revesre_order(s):\n",
    "    print(\"The reverse oreder string is\",s[::-1])\n",
    "    \n",
    "s = input(\"Enter the string : \")\n",
    "revesre_order(s)"
   ]
  },
  {
   "cell_type": "code",
   "execution_count": 123,
   "id": "ca2405d4",
   "metadata": {},
   "outputs": [
    {
     "name": "stdout",
     "output_type": "stream",
     "text": [
      "enter the stringI love Pune\n",
      "Original String is: I love Pune\n",
      "Reverse string is : enuP evol I\n"
     ]
    }
   ],
   "source": [
    "def string_rev(string):\n",
    "    rev_string= [string[x]for x in range (len (string)-1,-1,-1)]\n",
    "    return \"\".join(rev_string)\n",
    "\n",
    "string1=input(\"enter the string\")\n",
    "print(\"Original String is:\",string1)\n",
    "print(\"Reverse string is :\",string_rev(string1))\n"
   ]
  },
  {
   "cell_type": "code",
   "execution_count": 124,
   "id": "bd9d36f0",
   "metadata": {},
   "outputs": [
    {
     "name": "stdout",
     "output_type": "stream",
     "text": [
      " The both strings are Anagram\n"
     ]
    }
   ],
   "source": [
    "### 21. Write a Python program to check if two strings are anagrams of each other.\n",
    "\n",
    "def anagram_check(l1,l2):\n",
    "    if sorted(l1)==sorted(l2):\n",
    "        return True\n",
    "    else:\n",
    "        return False\n",
    "    \n",
    "S1=\"I love Pune\"\n",
    "S2=\"Pune love I\"\n",
    "\n",
    "ans=anagram_check(S1,S2)\n",
    "if ans==True:\n",
    "    print(\" The both strings are Anagram\")\n",
    "else:\n",
    "    print(\" The both strings are not Anagram\")"
   ]
  },
  {
   "cell_type": "code",
   "execution_count": 129,
   "id": "c03c17d2",
   "metadata": {},
   "outputs": [
    {
     "name": "stdout",
     "output_type": "stream",
     "text": [
      "First non-repeating character is l\n"
     ]
    }
   ],
   "source": [
    "### 22. Implement a function to find the first non-repeating character in a string.\n",
    "\n",
    "def FirstNonRepeat(s):\n",
    "      for i in s:\n",
    "        if(s.find(i,(s.find(i)+1))) == -1:\n",
    "   \n",
    "            print(\"First non-repeating character is\", i)\n",
    " \n",
    "            break\n",
    "        \n",
    "s1=\"I love I Pune\"\n",
    "FirstNonRepeat(s1)"
   ]
  },
  {
   "cell_type": "code",
   "execution_count": 147,
   "id": "92700e84",
   "metadata": {},
   "outputs": [
    {
     "name": "stdout",
     "output_type": "stream",
     "text": [
      "3\n",
      "3\n",
      "5\n",
      "7\n"
     ]
    }
   ],
   "source": [
    "### 23. Write a program to find the prime factors of a given number.\n",
    "import math\n",
    "# Python program to print prime factors\n",
    "\n",
    "import math\n",
    "\n",
    "# A function to print all prime factors of\n",
    "# a given number n\n",
    "def primeFactors_cal(n):\n",
    "    while n%2==0:\n",
    "        print(2)\n",
    "        n=n/2\n",
    "    for i in range(3,int(math.sqrt(n))+1,2):\n",
    "        while n%i==0:\n",
    "            print(i)\n",
    "            n=n/i\n",
    "    if n>2:\n",
    "        print(n)\n",
    "\n",
    "n = 315\n",
    "primeFactors(n)\n",
    "\n",
    "\n",
    "\n",
    "  "
   ]
  },
  {
   "cell_type": "code",
   "execution_count": 151,
   "id": "bd4a2921",
   "metadata": {},
   "outputs": [
    {
     "name": "stdout",
     "output_type": "stream",
     "text": [
      "Yes\n"
     ]
    }
   ],
   "source": [
    "###24. Implement a function to check if a given number is a power of two.\n",
    "\n",
    "def Log2(x):\n",
    "    if x==0:\n",
    "        return False\n",
    "    return (math.log10(x)/math.log10(2))\n",
    " \n",
    "def is_Power_Two(n):\n",
    "    return ( math.ceil(Log2(n)) == math.floor(Log2(n)))\n",
    "    \n",
    "\n",
    "\n",
    "if(is_Power_Two(32)):\n",
    "        print(\"Yes\")\n",
    "else:\n",
    "        print(\"No\")"
   ]
  },
  {
   "cell_type": "code",
   "execution_count": 171,
   "id": "db1b4451",
   "metadata": {},
   "outputs": [
    {
     "name": "stdout",
     "output_type": "stream",
     "text": [
      "The original list 1 is : [1, 5, 6, 9, 11]\n",
      "The original list 2 is : [3, 4, 7, 8, 10]\n",
      "The combined sorted list is : [1, 3, 4, 5, 6, 7, 8, 9, 10]\n"
     ]
    }
   ],
   "source": [
    "###25. Write a Python program to merge two sorted lists into a single sorted list.\n",
    "\n",
    "# initializing lists\n",
    "test_list1 = [1, 5, 6, 9, 11]\n",
    "test_list2 = [3, 4, 7, 8, 10]\n",
    "\n",
    "# printing original lists\n",
    "print(\"The original list 1 is : \" + str(test_list1))\n",
    "print(\"The original list 2 is : \" + str(test_list2))\n",
    "\n",
    "# using naive method\n",
    "# to combine two sorted lists\n",
    "size_1 = len(test_list1)\n",
    "size_2 = len(test_list2)\n",
    "\n",
    "res = []\n",
    "i, j = 0, 0\n",
    "\n",
    "while i < size_1 and j < size_2:\n",
    "    if test_list1[i] < test_list2[j]:\n",
    "        res.append(test_list1[i])\n",
    "        i += 1\n",
    "\n",
    "    else:\n",
    "        res.append(test_list2[j])\n",
    "        j += 1\n",
    "\n",
    "\n",
    "\n",
    "# printing result\n",
    "print(\"The combined sorted list is : \" + str(res))\n"
   ]
  },
  {
   "cell_type": "code",
   "execution_count": 182,
   "id": "a2baebb8",
   "metadata": {},
   "outputs": [
    {
     "name": "stdout",
     "output_type": "stream",
     "text": [
      "Mode is:  [6, 5]\n"
     ]
    }
   ],
   "source": [
    "### 26. Implement a function to find the mode of a list of numbers.\n",
    "l5=[3,4,6,8,7,9,1,2,6,5,5]\n",
    "counter=Counter(l5)\n",
    "max_count=max(counter.values())\n",
    "mode= [k for k,v in counter.items() if v ==max_count]\n",
    "\n",
    "if len(mode)==n:\n",
    "    print(\" No mode forund\")\n",
    "else:\n",
    "    print(\"Mode is: \",mode)"
   ]
  },
  {
   "cell_type": "code",
   "execution_count": 192,
   "id": "498d31a1",
   "metadata": {},
   "outputs": [
    {
     "name": "stdout",
     "output_type": "stream",
     "text": [
      "The GCD  is  8\n"
     ]
    }
   ],
   "source": [
    "### 27. Write a program to find the greatest common divisor (GCD) of two numbers.\n",
    "a1=32\n",
    "b1=24\n",
    "ans1=min(a1,b1)\n",
    "while ans1:\n",
    "    if a1 % ans1 == 0 and b1 % ans1 == 0:\n",
    "        break\n",
    "    ans1 -=1\n",
    "print( \"The GCD  is \",ans1)    \n",
    "        \n",
    "\n"
   ]
  },
  {
   "cell_type": "code",
   "execution_count": 194,
   "id": "9a7d7b21",
   "metadata": {},
   "outputs": [
    {
     "name": "stdout",
     "output_type": "stream",
     "text": [
      "The sqrt is 18\n"
     ]
    }
   ],
   "source": [
    "###28.Implement a function to calculate the square root of a given number.\n",
    "\n",
    "def sqrt_cal(x):\n",
    "    if (x == 0 or x == 1):\n",
    "        return x\n",
    "    i=1\n",
    "    result=1\n",
    "    while result<=x:\n",
    "        i +=1\n",
    "        result=i*i\n",
    "    return i-1    \n",
    "        \n",
    "print(\"The sqrt is\",sqrt_cal(346))\n",
    "\n",
    "\n"
   ]
  },
  {
   "cell_type": "code",
   "execution_count": 36,
   "id": "c18bf4e3",
   "metadata": {},
   "outputs": [
    {
     "name": "stdout",
     "output_type": "stream",
     "text": [
      "enter the string:malam\n",
      " string is palindrome \n"
     ]
    }
   ],
   "source": [
    "###29.Write a Python program to check if a given string is a valid palindrome ignoring non-alphanumeric characters.\n",
    "\n",
    "\n",
    "def ispalindrome(string):\n",
    "    return string == string[::-1]\n",
    "\n",
    "\n",
    "string1=input(\"enter the string:\")\n",
    "ans=ispalindrome(string1)\n",
    "if ans:\n",
    "    print(\" string is palindrome \")\n",
    "else:\n",
    "    print(\" string is not palindrome \") "
   ]
  },
  {
   "cell_type": "code",
   "execution_count": 16,
   "id": "70b73afb",
   "metadata": {},
   "outputs": [
    {
     "name": "stdout",
     "output_type": "stream",
     "text": [
      " Minimum element in the given array is 0\n"
     ]
    }
   ],
   "source": [
    "### 30.Implement a function to find the minimum element in a rotated sorted list.\n",
    "\n",
    "def min_ele(arry1):\n",
    "    a=arry1[0]\n",
    "    for i in range(len(arry1)):\n",
    "        if a > arry1[i]:\n",
    "            a=arry1[i]\n",
    "    print(\" Minimum element in the given array is\",a)  \n",
    "\n",
    "arry1=[7,5,8,12,34,23,21,0]\n",
    "min_ele(arry1)"
   ]
  },
  {
   "cell_type": "code",
   "execution_count": 23,
   "id": "8b502385",
   "metadata": {},
   "outputs": [
    {
     "name": "stdout",
     "output_type": "stream",
     "text": [
      "The sum of all even elements are: 56\n"
     ]
    }
   ],
   "source": [
    "### 31. Write a program to find the sum of all even numbers in a list.\n",
    "def sum_even_cal(arry1):\n",
    "    new=0\n",
    "    for i in range(len(arry1)):\n",
    "        if arry1[i]%2:\n",
    "            new +=arry1[i]       \n",
    "    print(\"The sum of all even elements are:\",new)  \n",
    "    \n",
    "arry1=[7,5,8,12,34,23,21,0]\n",
    "sum_even_cal(arry1)"
   ]
  },
  {
   "cell_type": "code",
   "execution_count": 32,
   "id": "7dbbee88",
   "metadata": {},
   "outputs": [
    {
     "name": "stdout",
     "output_type": "stream",
     "text": [
      "The 4 power of 32 is 1048576\n"
     ]
    }
   ],
   "source": [
    "### 32.Implement a function to calculate the power of a number using recursion.\n",
    "\n",
    "def power_cal(N,pow):\n",
    "    if pow==0:\n",
    "        return 1\n",
    "    \n",
    "    return (N*power_cal(N,pow-1))\n",
    "    \n",
    "\n",
    "num=32\n",
    "pow=4\n",
    "ans=power_cal(num,pow)\n",
    "print(\"The {} power of {} is {}\".format(pow,num,ans))\n",
    "    "
   ]
  },
  {
   "cell_type": "code",
   "execution_count": 40,
   "id": "31e9059f",
   "metadata": {},
   "outputs": [
    {
     "name": "stdout",
     "output_type": "stream",
     "text": [
      "The modified Array: [10, 45, 20, 21, 23]\n"
     ]
    }
   ],
   "source": [
    "\n",
    "### 33.Write a Python program to remove duplicates from a list while preserving the order.\n",
    "arr=[10,20,23,45,21,45,10]\n",
    "new_arry1=sorted(arr)\n",
    "new_arry=list(set(new_arry1))\n",
    "print(\"The modified Array:\",new_arry)\n"
   ]
  },
  {
   "cell_type": "code",
   "execution_count": 42,
   "id": "48d8d33c",
   "metadata": {},
   "outputs": [
    {
     "name": "stdout",
     "output_type": "stream",
     "text": [
      "The Original String is: ['apple', 'jute', 'muli', 'banana', 'jackfruit']\n",
      "Longest Common Prefix is: banana\n"
     ]
    }
   ],
   "source": [
    "### 34. Implement a function to find the longest common prefix among a list of strings.\n",
    "def LCP_cal(s):\n",
    "    a=s[0]\n",
    "    for x in range(1,len(s)-1):\n",
    "        if len(a) < len(s[x]): \n",
    "            a=s[x]\n",
    "    print (\"Longest Common Prefix is:\",a)        \n",
    "\n",
    "s=[\"apple\",\"jute\",\"muli\",\"banana\",\"jackfruit\"]\n",
    "print(\"The Original String is:\",s)\n",
    "LCP_cal(s)"
   ]
  },
  {
   "cell_type": "code",
   "execution_count": 44,
   "id": "299d581d",
   "metadata": {},
   "outputs": [
    {
     "name": "stdout",
     "output_type": "stream",
     "text": [
      "Yes\n"
     ]
    }
   ],
   "source": [
    "### 35. Write a program to check if a given number is a perfect square.\n",
    "\n",
    "def perf_sq(x):\n",
    "    if x >=0:\n",
    "        src=int(math.sqrt(x))\n",
    "        return (src*src ==x)  \n",
    "    else:\n",
    "        return False\n",
    "x=3200\n",
    "\n",
    "print(\"Yes\")\n",
    "\n",
    "        \n"
   ]
  },
  {
   "cell_type": "code",
   "execution_count": 46,
   "id": "12d2f797",
   "metadata": {},
   "outputs": [
    {
     "name": "stdout",
     "output_type": "stream",
     "text": [
      "The product of the elemnts in a array is: 15120\n"
     ]
    }
   ],
   "source": [
    "###36. Implement a function to calculate the product of all elements in a list.\n",
    "def prod_cal(l1):\n",
    "    ans=1\n",
    "    for x in range(len(l1)):\n",
    "        ans=ans*l1[x]\n",
    "    return ans\n",
    "\n",
    "l1=[1,4,6,7,9,10]\n",
    "ans=prod_cal(l1)\n",
    "print(\"The product of the elemnts in a array is:\",ans)"
   ]
  },
  {
   "cell_type": "code",
   "execution_count": 50,
   "id": "c7078922",
   "metadata": {},
   "outputs": [
    {
     "name": "stdout",
     "output_type": "stream",
     "text": [
      "The Original String is: apple banana jack nut\n",
      "The Original String is: ['elppa', 'ananab', 'kcaj', 'tun']\n"
     ]
    }
   ],
   "source": [
    "### 37. Write a Python program to reverse the order of words in a sentence while preserving the word order.\n",
    "def revrs_cal(s):\n",
    "    splt_wrds = s.split()\n",
    "    reversd_wrds =[wrd[::-1]for wrd in splt_wrds]\n",
    "    return reversd_wrds\n",
    "\n",
    "s=\"apple banana jack nut\"\n",
    "print(\"The Original String is:\",s)\n",
    "print(\"The Original String is:\",revrs_cal(s))"
   ]
  },
  {
   "cell_type": "code",
   "execution_count": 20,
   "id": "34c0ffc8",
   "metadata": {},
   "outputs": [],
   "source": [
    "### 38. Implement a function to find the missing number in a given list of consecutive numbers.\n",
    "\n",
    "# Find Missing Element\n",
    "def findMissing(arr, N):\n",
    "# create a list of zeroes\n",
    "    temp = [0] * (N+1)\n",
    "    for i in range(0, N):\n",
    "        temp[arr[i] - 1] = 1\n",
    "\n",
    "    for i in range(0, N+1):\n",
    "        if(temp[i] == 0):\n",
    "            ans = i + 1\n",
    "\n",
    "    print(ans)\n",
    "\n",
    "    arr = [1, 2, 3, 5]\n",
    "    N = len(arr)\n",
    "\n",
    "    # Function call\n",
    "    findMissing(arr, N)\n",
    "\n"
   ]
  },
  {
   "cell_type": "code",
   "execution_count": 23,
   "id": "610d8acf",
   "metadata": {},
   "outputs": [
    {
     "name": "stdout",
     "output_type": "stream",
     "text": [
      "The sum of the digits are 19\n"
     ]
    }
   ],
   "source": [
    "### 39. Write a program to find the sum of digits of a given number.\n",
    "def getsum(n):\n",
    "    sum=0\n",
    "    while(n!=0):\n",
    "        sum+=int(n%10)\n",
    "        n=int(n/10)\n",
    "    return sum    \n",
    "\n",
    "n=685\n",
    "print(\"The sum of the digits are\",getsum(n))"
   ]
  },
  {
   "cell_type": "code",
   "execution_count": 34,
   "id": "f1df6613",
   "metadata": {},
   "outputs": [
    {
     "name": "stdout",
     "output_type": "stream",
     "text": [
      "No\n"
     ]
    }
   ],
   "source": [
    "### 40.Implement a function to check if a given string is a valid palindrome considering case sensitivity.\n",
    "# function which return reverse of a string\n",
    "\n",
    "def isPalindrome(string):\n",
    "    return string == string[::-1]\n",
    "\n",
    "\n",
    "# Driver code\n",
    "#s = \"malayalam\"\n",
    "s=\"Tamil\"\n",
    "ans = isPalindrome(s)\n",
    "\n",
    "if ans:\n",
    "    print(\"Yes\")\n",
    "else:\n",
    "    print(\"No\")\n",
    "\n",
    "\n",
    "\n"
   ]
  },
  {
   "cell_type": "code",
   "execution_count": 40,
   "id": "07a79d4e",
   "metadata": {},
   "outputs": [
    {
     "data": {
      "text/plain": [
       "4"
      ]
     },
     "execution_count": 40,
     "metadata": {},
     "output_type": "execute_result"
    }
   ],
   "source": [
    "### 41. Write a Python program to find the smallest missing positive integer in a list.\n",
    "\n",
    "l = [1,2,3,5,7,8,12,14]\n",
    "m = range(1,len(l))\n",
    "min(set(m)-set(l))"
   ]
  },
  {
   "cell_type": "code",
   "execution_count": 42,
   "id": "bf94c53c",
   "metadata": {},
   "outputs": [
    {
     "name": "stdout",
     "output_type": "stream",
     "text": [
      "Longest palindrome substring is: morfeeksskeefrom\n",
      "Length is: 16\n"
     ]
    }
   ],
   "source": [
    "### 42. Implement a function to find the longest palindrome substring in a given string.\n",
    "\n",
    "# A O(n ^ 2) time and O(1) space program to find the\n",
    "# longest palindromic substring\n",
    "\n",
    "# This function prints the longest palindrome substring (LPS)of str[]. It also returns the length of the longest palindrome\n",
    "\n",
    "\n",
    "def longestPalSubstr(string):\n",
    "    n = len(string) # calculating size of string\n",
    "    if (n < 2):\n",
    "        return n # if string is empty then size will be 0.\n",
    "# if n==1 then, answer will be 1(single\n",
    "# character will always palindrome)\n",
    "    start=0\n",
    "    maxLength = 1\n",
    "    for i in range(n):\n",
    "        low = i - 1\n",
    "        high = i + 1\n",
    "        while (high < n and string[high] == string[i] ):\n",
    "            high=high+1\n",
    "\n",
    "        while (low >= 0 and string[low] == string[i] ):\t\t\t\t\n",
    "            low=low-1\n",
    "\n",
    "        while (low >= 0 and high < n and string[low] == string[high] ):\n",
    "            low=low-1\n",
    "            high=high+1\n",
    "\n",
    "        length = high - low - 1\n",
    "        if (maxLength < length):\n",
    "            maxLength = length\n",
    "            start=low+1\n",
    "\n",
    "    print (\"Longest palindrome substring is:\",end=\" \")\n",
    "    print (string[start:start + maxLength])\n",
    "    \n",
    "    return maxLength\n",
    "\n",
    "# Driver program to test above functions\n",
    "string = (\"morfeeksskeefrom\")\n",
    "print(\"Length is: \" + str(longestPalSubstr(string)))\n",
    "\n",
    "\n"
   ]
  },
  {
   "cell_type": "code",
   "execution_count": 45,
   "id": "9f8692b5",
   "metadata": {},
   "outputs": [
    {
     "name": "stdout",
     "output_type": "stream",
     "text": [
      "8 has occured 2 times\n"
     ]
    }
   ],
   "source": [
    "### 43. Write a program to find the number of occurrences of a given element in a list\n",
    "list =[1,3,4,5,5,6,8,8,9,1,0]\n",
    "occurrence = { x:list.count(x) for x in list}\n",
    "i=8\n",
    "print(\"{} has occured {} times\".format(i,occurrence.get(i)))"
   ]
  },
  {
   "cell_type": "code",
   "execution_count": null,
   "id": "b83ae3af",
   "metadata": {},
   "outputs": [],
   "source": [
    "## 44. Implement a function to check if a given number is a perfect number.\n",
    "#A number is a perfect number if is equal to sum of its proper divisors, that is, sum of its positive divisors excluding the number itself. Write a function to check if a given number is perfect or not.\n",
    "\n",
    "\n",
    "\n",
    "# Returns true if n is perfect\n",
    "def isPerfect( n ):\n",
    "\n",
    " # To store sum of divisors\n",
    "    sum = 1\n",
    "    \n",
    "    # Find all divisors and add them\n",
    "    i = 2\n",
    "    while i * i <= n:\n",
    "        if n % i == 0:\n",
    "            sum = sum + i + n/i\n",
    "            i += 1\n",
    "\n",
    "# If sum of divisors is equal to\n",
    "# n, then n is a perfect number\n",
    "\n",
    "    return (True if sum == n and n!=1 else False)\n",
    "\n",
    "# Driver program\n",
    "\n",
    "n = 15\n",
    "\n",
    "if isPerfect (n):\n",
    "    print(n , \" is a perfect number\")\n",
    "        \n",
    "\n"
   ]
  },
  {
   "cell_type": "code",
   "execution_count": 1,
   "id": "01a77d07",
   "metadata": {},
   "outputs": [
    {
     "name": "stdout",
     "output_type": "stream",
     "text": [
      "The original list is [30, 23, 34, 56, 78, 5, 6, 7, 8, 8, 9, 12, 12]\n",
      "Modified list  after removing duplicate elements from list is   [34, 5, 6, 7, 8, 9, 12, 78, 23, 56, 30]\n"
     ]
    }
   ],
   "source": [
    "### 45. Write a Python program to remove all duplicates from a string.\n",
    "def fun1(l2):\n",
    "    return list(set(l2))\n",
    "l1=[30,23,34,56,78,5,6,7,8,8,9,12,12]\n",
    "print(\"The original list is\",l1)\n",
    "print(\"Modified list  after removing duplicate elements from list is  \",fun1(l1))\n",
    " "
   ]
  },
  {
   "cell_type": "code",
   "execution_count": 2,
   "id": "8494bf29",
   "metadata": {},
   "outputs": [
    {
     "data": {
      "text/plain": [
       "4"
      ]
     },
     "execution_count": 2,
     "metadata": {},
     "output_type": "execute_result"
    }
   ],
   "source": [
    "### 46.Implement a function to find the first missing positive\n",
    "\n",
    "l = [1,2,3,5,7,8,12,14]\n",
    "m = range(1,len(l))\n",
    "min(set(m)-set(l))"
   ]
  },
  {
   "cell_type": "code",
   "execution_count": null,
   "id": "3362d881",
   "metadata": {},
   "outputs": [],
   "source": []
  }
 ],
 "metadata": {
  "kernelspec": {
   "display_name": "Python 3 (ipykernel)",
   "language": "python",
   "name": "python3"
  },
  "language_info": {
   "codemirror_mode": {
    "name": "ipython",
    "version": 3
   },
   "file_extension": ".py",
   "mimetype": "text/x-python",
   "name": "python",
   "nbconvert_exporter": "python",
   "pygments_lexer": "ipython3",
   "version": "3.9.10"
  }
 },
 "nbformat": 4,
 "nbformat_minor": 5
}
